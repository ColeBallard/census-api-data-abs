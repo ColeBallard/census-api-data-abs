{
 "cells": [
  {
   "cell_type": "code",
   "execution_count": 26,
   "id": "6429d252",
   "metadata": {},
   "outputs": [],
   "source": [
    "import requests\n",
    "import pandas as pd\n",
    "import matplotlib.pyplot as plt"
   ]
  },
  {
   "cell_type": "code",
   "execution_count": 27,
   "id": "e198769e",
   "metadata": {},
   "outputs": [],
   "source": [
    "data2019 = requests.get('https://api.census.gov/data/2018/abscs?get=NAME,GEO_ID,NAICS2017_LABEL,SEX,ETH_GROUP,RACE_GROUP,VET_GROUP,FIRMPDEMP&for=state:*&NAICS2017=00&key=a4bcb4614372e8f229066cbce694ccdb6b558ef4').json()"
   ]
  },
  {
   "cell_type": "code",
   "execution_count": 28,
   "id": "45446068",
   "metadata": {},
   "outputs": [],
   "source": [
    "data2020 = requests.get('https://api.census.gov/data/2019/abscs?get=NAME,GEO_ID,NAICS2017_LABEL,SEX,ETH_GROUP,RACE_GROUP,VET_GROUP,FIRMPDEMP&for=state:*&NAICS2017=00&key=a4bcb4614372e8f229066cbce694ccdb6b558ef4').json()"
   ]
  },
  {
   "cell_type": "code",
   "execution_count": 29,
   "id": "4b3d27c4",
   "metadata": {},
   "outputs": [],
   "source": [
    "companysummarystate2019 = pd.DataFrame (data2019[1:], columns= data2019[0])"
   ]
  },
  {
   "cell_type": "code",
   "execution_count": 30,
   "id": "4b9b608f",
   "metadata": {},
   "outputs": [],
   "source": [
    "companysummarystate2020 = pd.DataFrame(data2020[1:], columns = data2020[0])"
   ]
  },
  {
   "cell_type": "code",
   "execution_count": 31,
   "id": "688ec796",
   "metadata": {
    "scrolled": true
   },
   "outputs": [],
   "source": [
    "companysummarystate2019.drop(columns = ['GEO_ID','NAICS2017_LABEL','NAICS2017','state'], inplace=True)"
   ]
  },
  {
   "cell_type": "code",
   "execution_count": 32,
   "id": "c2a005be",
   "metadata": {},
   "outputs": [],
   "source": [
    "companysummarystate2020.drop(columns = ['GEO_ID','NAICS2017_LABEL','NAICS2017','state'], inplace=True)"
   ]
  },
  {
   "cell_type": "code",
   "execution_count": 33,
   "id": "900c1dcd",
   "metadata": {},
   "outputs": [
    {
     "data": {
      "text/html": [
       "<div>\n",
       "<style scoped>\n",
       "    .dataframe tbody tr th:only-of-type {\n",
       "        vertical-align: middle;\n",
       "    }\n",
       "\n",
       "    .dataframe tbody tr th {\n",
       "        vertical-align: top;\n",
       "    }\n",
       "\n",
       "    .dataframe thead th {\n",
       "        text-align: right;\n",
       "    }\n",
       "</style>\n",
       "<table border=\"1\" class=\"dataframe\">\n",
       "  <thead>\n",
       "    <tr style=\"text-align: right;\">\n",
       "      <th></th>\n",
       "      <th>NAME</th>\n",
       "      <th>SEX</th>\n",
       "      <th>ETH_GROUP</th>\n",
       "      <th>RACE_GROUP</th>\n",
       "      <th>VET_GROUP</th>\n",
       "      <th>FIRMPDEMP</th>\n",
       "    </tr>\n",
       "  </thead>\n",
       "  <tbody>\n",
       "    <tr>\n",
       "      <th>0</th>\n",
       "      <td>Mississippi</td>\n",
       "      <td>002</td>\n",
       "      <td>029</td>\n",
       "      <td>00</td>\n",
       "      <td>003</td>\n",
       "      <td>0</td>\n",
       "    </tr>\n",
       "    <tr>\n",
       "      <th>1</th>\n",
       "      <td>Mississippi</td>\n",
       "      <td>003</td>\n",
       "      <td>029</td>\n",
       "      <td>00</td>\n",
       "      <td>003</td>\n",
       "      <td>466</td>\n",
       "    </tr>\n",
       "    <tr>\n",
       "      <th>2</th>\n",
       "      <td>Mississippi</td>\n",
       "      <td>004</td>\n",
       "      <td>029</td>\n",
       "      <td>00</td>\n",
       "      <td>003</td>\n",
       "      <td>572</td>\n",
       "    </tr>\n",
       "    <tr>\n",
       "      <th>3</th>\n",
       "      <td>Mississippi</td>\n",
       "      <td>001</td>\n",
       "      <td>001</td>\n",
       "      <td>30</td>\n",
       "      <td>003</td>\n",
       "      <td>926</td>\n",
       "    </tr>\n",
       "    <tr>\n",
       "      <th>4</th>\n",
       "      <td>Mississippi</td>\n",
       "      <td>096</td>\n",
       "      <td>096</td>\n",
       "      <td>96</td>\n",
       "      <td>096</td>\n",
       "      <td>37489</td>\n",
       "    </tr>\n",
       "  </tbody>\n",
       "</table>\n",
       "</div>"
      ],
      "text/plain": [
       "          NAME  SEX ETH_GROUP RACE_GROUP VET_GROUP FIRMPDEMP\n",
       "0  Mississippi  002       029         00       003         0\n",
       "1  Mississippi  003       029         00       003       466\n",
       "2  Mississippi  004       029         00       003       572\n",
       "3  Mississippi  001       001         30       003       926\n",
       "4  Mississippi  096       096         96       096     37489"
      ]
     },
     "execution_count": 33,
     "metadata": {},
     "output_type": "execute_result"
    }
   ],
   "source": [
    "companysummarystate2019.head()"
   ]
  },
  {
   "cell_type": "code",
   "execution_count": 34,
   "id": "1f830a5b",
   "metadata": {},
   "outputs": [
    {
     "data": {
      "text/html": [
       "<div>\n",
       "<style scoped>\n",
       "    .dataframe tbody tr th:only-of-type {\n",
       "        vertical-align: middle;\n",
       "    }\n",
       "\n",
       "    .dataframe tbody tr th {\n",
       "        vertical-align: top;\n",
       "    }\n",
       "\n",
       "    .dataframe thead th {\n",
       "        text-align: right;\n",
       "    }\n",
       "</style>\n",
       "<table border=\"1\" class=\"dataframe\">\n",
       "  <thead>\n",
       "    <tr style=\"text-align: right;\">\n",
       "      <th></th>\n",
       "      <th>NAME</th>\n",
       "      <th>SEX</th>\n",
       "      <th>ETH_GROUP</th>\n",
       "      <th>RACE_GROUP</th>\n",
       "      <th>VET_GROUP</th>\n",
       "      <th>FIRMPDEMP</th>\n",
       "    </tr>\n",
       "  </thead>\n",
       "  <tbody>\n",
       "    <tr>\n",
       "      <th>0</th>\n",
       "      <td>Mississippi</td>\n",
       "      <td>001</td>\n",
       "      <td>028</td>\n",
       "      <td>00</td>\n",
       "      <td>001</td>\n",
       "      <td>93</td>\n",
       "    </tr>\n",
       "    <tr>\n",
       "      <th>1</th>\n",
       "      <td>Mississippi</td>\n",
       "      <td>003</td>\n",
       "      <td>028</td>\n",
       "      <td>00</td>\n",
       "      <td>001</td>\n",
       "      <td>0</td>\n",
       "    </tr>\n",
       "    <tr>\n",
       "      <th>2</th>\n",
       "      <td>Mississippi</td>\n",
       "      <td>002</td>\n",
       "      <td>029</td>\n",
       "      <td>50</td>\n",
       "      <td>001</td>\n",
       "      <td>0</td>\n",
       "    </tr>\n",
       "    <tr>\n",
       "      <th>3</th>\n",
       "      <td>Mississippi</td>\n",
       "      <td>003</td>\n",
       "      <td>029</td>\n",
       "      <td>50</td>\n",
       "      <td>001</td>\n",
       "      <td>51</td>\n",
       "    </tr>\n",
       "    <tr>\n",
       "      <th>4</th>\n",
       "      <td>Mississippi</td>\n",
       "      <td>001</td>\n",
       "      <td>001</td>\n",
       "      <td>60</td>\n",
       "      <td>001</td>\n",
       "      <td>2489</td>\n",
       "    </tr>\n",
       "  </tbody>\n",
       "</table>\n",
       "</div>"
      ],
      "text/plain": [
       "          NAME  SEX ETH_GROUP RACE_GROUP VET_GROUP FIRMPDEMP\n",
       "0  Mississippi  001       028         00       001        93\n",
       "1  Mississippi  003       028         00       001         0\n",
       "2  Mississippi  002       029         50       001         0\n",
       "3  Mississippi  003       029         50       001        51\n",
       "4  Mississippi  001       001         60       001      2489"
      ]
     },
     "execution_count": 34,
     "metadata": {},
     "output_type": "execute_result"
    }
   ],
   "source": [
    "companysummarystate2020.head()"
   ]
  },
  {
   "cell_type": "code",
   "execution_count": 35,
   "id": "7543b5ef",
   "metadata": {},
   "outputs": [
    {
     "data": {
      "text/plain": [
       "False    9668\n",
       "Name: FIRMPDEMP, dtype: int64"
      ]
     },
     "execution_count": 35,
     "metadata": {},
     "output_type": "execute_result"
    }
   ],
   "source": [
    "companysummarystate2019.FIRMPDEMP.isna().value_counts()"
   ]
  },
  {
   "cell_type": "code",
   "execution_count": 36,
   "id": "80e35b8f",
   "metadata": {},
   "outputs": [
    {
     "data": {
      "text/plain": [
       "False    9641\n",
       "Name: FIRMPDEMP, dtype: int64"
      ]
     },
     "execution_count": 36,
     "metadata": {},
     "output_type": "execute_result"
    }
   ],
   "source": [
    "companysummarystate2020.FIRMPDEMP.isna().value_counts()"
   ]
  },
  {
   "cell_type": "code",
   "execution_count": 37,
   "id": "cbda8f80",
   "metadata": {},
   "outputs": [],
   "source": [
    "statemerge = companysummarystate2019.merge(companysummarystate2020, on=['NAME', 'SEX', 'ETH_GROUP', 'RACE_GROUP', 'VET_GROUP'], how='inner', suffixes = ('_2019', '_2020') )"
   ]
  },
  {
   "cell_type": "markdown",
   "id": "31372314",
   "metadata": {},
   "source": [
    "The totals for each column are 001, except Race_Group which is 00.\n",
    "Make sure that you filter for totals on all the other columns except for the ones you are looking at fo"
   ]
  },
  {
   "cell_type": "code",
   "execution_count": 38,
   "id": "49cb6de3",
   "metadata": {},
   "outputs": [
    {
     "data": {
      "text/html": [
       "<div>\n",
       "<style scoped>\n",
       "    .dataframe tbody tr th:only-of-type {\n",
       "        vertical-align: middle;\n",
       "    }\n",
       "\n",
       "    .dataframe tbody tr th {\n",
       "        vertical-align: top;\n",
       "    }\n",
       "\n",
       "    .dataframe thead th {\n",
       "        text-align: right;\n",
       "    }\n",
       "</style>\n",
       "<table border=\"1\" class=\"dataframe\">\n",
       "  <thead>\n",
       "    <tr style=\"text-align: right;\">\n",
       "      <th></th>\n",
       "      <th>NAME</th>\n",
       "      <th>SEX</th>\n",
       "      <th>ETH_GROUP</th>\n",
       "      <th>RACE_GROUP</th>\n",
       "      <th>VET_GROUP</th>\n",
       "      <th>FIRMPDEMP_2019</th>\n",
       "      <th>FIRMPDEMP_2020</th>\n",
       "    </tr>\n",
       "  </thead>\n",
       "  <tbody>\n",
       "    <tr>\n",
       "      <th>0</th>\n",
       "      <td>Mississippi</td>\n",
       "      <td>003</td>\n",
       "      <td>029</td>\n",
       "      <td>00</td>\n",
       "      <td>003</td>\n",
       "      <td>466</td>\n",
       "      <td>334</td>\n",
       "    </tr>\n",
       "    <tr>\n",
       "      <th>1</th>\n",
       "      <td>Mississippi</td>\n",
       "      <td>004</td>\n",
       "      <td>029</td>\n",
       "      <td>00</td>\n",
       "      <td>003</td>\n",
       "      <td>572</td>\n",
       "      <td>0</td>\n",
       "    </tr>\n",
       "    <tr>\n",
       "      <th>2</th>\n",
       "      <td>Mississippi</td>\n",
       "      <td>001</td>\n",
       "      <td>001</td>\n",
       "      <td>30</td>\n",
       "      <td>003</td>\n",
       "      <td>926</td>\n",
       "      <td>801</td>\n",
       "    </tr>\n",
       "    <tr>\n",
       "      <th>3</th>\n",
       "      <td>Mississippi</td>\n",
       "      <td>096</td>\n",
       "      <td>096</td>\n",
       "      <td>96</td>\n",
       "      <td>096</td>\n",
       "      <td>37489</td>\n",
       "      <td>37057</td>\n",
       "    </tr>\n",
       "    <tr>\n",
       "      <th>4</th>\n",
       "      <td>Mississippi</td>\n",
       "      <td>002</td>\n",
       "      <td>001</td>\n",
       "      <td>00</td>\n",
       "      <td>001</td>\n",
       "      <td>6659</td>\n",
       "      <td>7751</td>\n",
       "    </tr>\n",
       "    <tr>\n",
       "      <th>...</th>\n",
       "      <td>...</td>\n",
       "      <td>...</td>\n",
       "      <td>...</td>\n",
       "      <td>...</td>\n",
       "      <td>...</td>\n",
       "      <td>...</td>\n",
       "      <td>...</td>\n",
       "    </tr>\n",
       "    <tr>\n",
       "      <th>9133</th>\n",
       "      <td>Minnesota</td>\n",
       "      <td>002</td>\n",
       "      <td>029</td>\n",
       "      <td>00</td>\n",
       "      <td>003</td>\n",
       "      <td>0</td>\n",
       "      <td>0</td>\n",
       "    </tr>\n",
       "    <tr>\n",
       "      <th>9134</th>\n",
       "      <td>Minnesota</td>\n",
       "      <td>003</td>\n",
       "      <td>029</td>\n",
       "      <td>00</td>\n",
       "      <td>003</td>\n",
       "      <td>941</td>\n",
       "      <td>1128</td>\n",
       "    </tr>\n",
       "    <tr>\n",
       "      <th>9135</th>\n",
       "      <td>Minnesota</td>\n",
       "      <td>004</td>\n",
       "      <td>029</td>\n",
       "      <td>00</td>\n",
       "      <td>003</td>\n",
       "      <td>0</td>\n",
       "      <td>1877</td>\n",
       "    </tr>\n",
       "    <tr>\n",
       "      <th>9136</th>\n",
       "      <td>Minnesota</td>\n",
       "      <td>001</td>\n",
       "      <td>001</td>\n",
       "      <td>30</td>\n",
       "      <td>003</td>\n",
       "      <td>0</td>\n",
       "      <td>3025</td>\n",
       "    </tr>\n",
       "    <tr>\n",
       "      <th>9137</th>\n",
       "      <td>Minnesota</td>\n",
       "      <td>096</td>\n",
       "      <td>096</td>\n",
       "      <td>96</td>\n",
       "      <td>096</td>\n",
       "      <td>105997</td>\n",
       "      <td>105316</td>\n",
       "    </tr>\n",
       "  </tbody>\n",
       "</table>\n",
       "<p>9138 rows × 7 columns</p>\n",
       "</div>"
      ],
      "text/plain": [
       "             NAME  SEX ETH_GROUP RACE_GROUP VET_GROUP FIRMPDEMP_2019  \\\n",
       "0     Mississippi  003       029         00       003            466   \n",
       "1     Mississippi  004       029         00       003            572   \n",
       "2     Mississippi  001       001         30       003            926   \n",
       "3     Mississippi  096       096         96       096          37489   \n",
       "4     Mississippi  002       001         00       001           6659   \n",
       "...           ...  ...       ...        ...       ...            ...   \n",
       "9133    Minnesota  002       029         00       003              0   \n",
       "9134    Minnesota  003       029         00       003            941   \n",
       "9135    Minnesota  004       029         00       003              0   \n",
       "9136    Minnesota  001       001         30       003              0   \n",
       "9137    Minnesota  096       096         96       096         105997   \n",
       "\n",
       "     FIRMPDEMP_2020  \n",
       "0               334  \n",
       "1                 0  \n",
       "2               801  \n",
       "3             37057  \n",
       "4              7751  \n",
       "...             ...  \n",
       "9133              0  \n",
       "9134           1128  \n",
       "9135           1877  \n",
       "9136           3025  \n",
       "9137         105316  \n",
       "\n",
       "[9138 rows x 7 columns]"
      ]
     },
     "execution_count": 38,
     "metadata": {},
     "output_type": "execute_result"
    }
   ],
   "source": [
    "statemerge"
   ]
  },
  {
   "cell_type": "code",
   "execution_count": 47,
   "id": "8b76a1d2",
   "metadata": {},
   "outputs": [],
   "source": [
    "pd.options.mode.chained_assignment = None"
   ]
  },
  {
   "cell_type": "code",
   "execution_count": 49,
   "id": "92b58711",
   "metadata": {},
   "outputs": [],
   "source": [
    "#changing data to numeric values for easier plotting\n",
    "statemerge['FIRMPDEMP_2020'] = pd.to_numeric(statemerge['FIRMPDEMP_2020'])\n",
    "statemerge['FIRMPDEMP_2019'] = pd.to_numeric(statemerge['FIRMPDEMP_2019'])"
   ]
  },
  {
   "cell_type": "code",
   "execution_count": 86,
   "id": "b08960f7",
   "metadata": {},
   "outputs": [
    {
     "name": "stdout",
     "output_type": "stream",
     "text": [
      "                      NAME  SEX ETH_GROUP RACE_GROUP VET_GROUP  \\\n",
      "123            Mississippi  002       001         90       001   \n",
      "279               Missouri  002       001         90       001   \n",
      "422                Montana  002       001         90       001   \n",
      "603               Nebraska  002       001         90       001   \n",
      "839                 Nevada  002       001         90       001   \n",
      "919          New Hampshire  002       001         90       001   \n",
      "1174            New Jersey  002       001         90       001   \n",
      "1245            New Mexico  002       001         90       001   \n",
      "1534              New York  002       001         90       001   \n",
      "1666        North Carolina  002       001         90       001   \n",
      "1824          North Dakota  002       001         90       001   \n",
      "2117                  Ohio  002       001         90       001   \n",
      "2183              Oklahoma  002       001         90       001   \n",
      "2362                Oregon  002       001         90       001   \n",
      "2522          Pennsylvania  002       001         90       001   \n",
      "2803          Rhode Island  002       001         90       001   \n",
      "2899        South Carolina  002       001         90       001   \n",
      "3091          South Dakota  002       001         90       001   \n",
      "3188             Tennessee  002       001         90       001   \n",
      "3511                 Texas  002       001         90       001   \n",
      "3694               Vermont  002       001         90       001   \n",
      "3752                  Utah  002       001         90       001   \n",
      "3995              Virginia  002       001         90       001   \n",
      "4209            Washington  002       001         90       001   \n",
      "4408         West Virginia  002       001         90       001   \n",
      "4520             Wisconsin  002       001         90       001   \n",
      "4678               Wyoming  002       001         90       001   \n",
      "4773               Alabama  002       001         90       001   \n",
      "5062                Alaska  002       001         90       001   \n",
      "5175               Arizona  002       001         90       001   \n",
      "5423              Arkansas  002       001         90       001   \n",
      "5585            California  002       001         90       001   \n",
      "5742              Colorado  002       001         90       001   \n",
      "5962              Delaware  002       001         90       001   \n",
      "6073  District of Columbia  002       001         90       001   \n",
      "6336           Connecticut  002       001         90       001   \n",
      "6551               Florida  002       001         90       001   \n",
      "6643               Georgia  002       001         90       001   \n",
      "6865                 Idaho  002       001         90       001   \n",
      "7004                Hawaii  002       001         90       001   \n",
      "7263              Illinois  002       001         90       001   \n",
      "7437               Indiana  002       001         90       001   \n",
      "7586                  Iowa  002       001         90       001   \n",
      "7842                Kansas  002       001         90       001   \n",
      "7984              Kentucky  002       001         90       001   \n",
      "8120             Louisiana  002       001         90       001   \n",
      "8287                 Maine  002       001         90       001   \n",
      "8461              Maryland  002       001         90       001   \n",
      "8625         Massachusetts  002       001         90       001   \n",
      "8856              Michigan  002       001         90       001   \n",
      "9069             Minnesota  002       001         90       001   \n",
      "\n",
      "      FIRMPDEMP_2019  FIRMPDEMP_2020  \n",
      "123                0               0  \n",
      "279             2937            3477  \n",
      "422              324             293  \n",
      "603              606               0  \n",
      "839             2967            3101  \n",
      "919                0             416  \n",
      "1174           11061           13473  \n",
      "1245            2163            2122  \n",
      "1534           28665           28694  \n",
      "1666            6146            5763  \n",
      "1824             184               0  \n",
      "2117            3418            4004  \n",
      "2183            2727            2502  \n",
      "2362            3273            2856  \n",
      "2522               0            6145  \n",
      "2803               0               0  \n",
      "2899            2104            3510  \n",
      "3091             359             224  \n",
      "3188            2524            2677  \n",
      "3511           29684           31018  \n",
      "3694             125               0  \n",
      "3752            1357            1847  \n",
      "3995            8714            9693  \n",
      "4209            6397            7131  \n",
      "4408             177             330  \n",
      "4520            1724            1831  \n",
      "4678               0             266  \n",
      "4773            2316            1903  \n",
      "5062             711             685  \n",
      "5175            4594            5010  \n",
      "5423             929             883  \n",
      "5585           65111           70092  \n",
      "5742            4751            4250  \n",
      "5962             731               0  \n",
      "6073            1376             980  \n",
      "6336            2445               0  \n",
      "6551           28736           32767  \n",
      "6643           10471           11353  \n",
      "6865             625             593  \n",
      "7004            4206            3520  \n",
      "7263           10132           10927  \n",
      "7437            2378            2242  \n",
      "7586               0               0  \n",
      "7842            1063            1273  \n",
      "7984             788            1083  \n",
      "8120            2359            3071  \n",
      "8287             193               0  \n",
      "8461            6664            8002  \n",
      "8625            4243            4418  \n",
      "8856            3645            4413  \n",
      "9069            1768            2294  \n"
     ]
    }
   ],
   "source": [
    "#filtering the data so i get data for minority women owned firms\n",
    "onestatemerge = statemerge.loc[(statemerge['SEX'] == '002') & (statemerge['ETH_GROUP'] == '001') & (statemerge['RACE_GROUP'] == '90') & (statemerge['VET_GROUP'] == '001')]\n",
    "print(onestatemerge)"
   ]
  },
  {
   "cell_type": "code",
   "execution_count": 107,
   "id": "b47f810b",
   "metadata": {},
   "outputs": [
    {
     "name": "stdout",
     "output_type": "stream",
     "text": [
      "NAME              object\n",
      "SEX               object\n",
      "ETH_GROUP         object\n",
      "RACE_GROUP        object\n",
      "VET_GROUP         object\n",
      "FIRMPDEMP_2019     int64\n",
      "FIRMPDEMP_2020     int64\n",
      "dtype: object\n"
     ]
    }
   ],
   "source": [
    "#checking datatypes\n",
    "result = onestatemerge.dtypes\n",
    "print(result)"
   ]
  },
  {
   "cell_type": "code",
   "execution_count": 109,
   "id": "7b8f89e9",
   "metadata": {},
   "outputs": [],
   "source": [
    "#changing state name data type so it can be plotted\n",
    "onestatemerge['NAME'] = onestatemerge['NAME'].astype('|S')"
   ]
  },
  {
   "cell_type": "code",
   "execution_count": 110,
   "id": "03c74959",
   "metadata": {},
   "outputs": [
    {
     "name": "stdout",
     "output_type": "stream",
     "text": [
      "NAME                |S20\n",
      "SEX               object\n",
      "ETH_GROUP         object\n",
      "RACE_GROUP        object\n",
      "VET_GROUP         object\n",
      "FIRMPDEMP_2019     int64\n",
      "FIRMPDEMP_2020     int64\n",
      "dtype: object\n"
     ]
    }
   ],
   "source": [
    "#making sure state name data type changed\n",
    "result = onestatemerge.dtypes\n",
    "print(result)"
   ]
  },
  {
   "cell_type": "code",
   "execution_count": 112,
   "id": "18d98e38",
   "metadata": {},
   "outputs": [
    {
     "data": {
      "text/plain": [
       "Text(0, 0.5, 'Number of firms')"
      ]
     },
     "execution_count": 112,
     "metadata": {},
     "output_type": "execute_result"
    },
    {
     "data": {
      "image/png": "[encoded data removed]",
      "text/plain": [
       "<Figure size 1584x576 with 1 Axes>"
      ]
     },
     "metadata": {
      "needs_background": "light"
     },
     "output_type": "display_data"
    }
   ],
   "source": [
    "#plotting chart to find out how the number of businesses has changed from 2019 to 2020\n",
    "plt.figure(figsize=(22, 8))\n",
    "plt.plot( 'NAME', 'FIRMPDEMP_2019', data= onestatemerge, color='black', linewidth=2)\n",
    "plt.plot( 'NAME', 'FIRMPDEMP_2020', data= onestatemerge, color='red', linewidth=2)\n",
    "plt.legend()\n",
    "plt.xlabel('States')\n",
    "plt.xticks(rotation = 45)\n",
    "spacing = 0.220\n",
    "plt.subplots_adjust(bottom=spacing)\n",
    "plt.ylabel('Number of firms')\n"
   ]
  },
  {
   "cell_type": "code",
   "execution_count": 87,
   "id": "e7fd448f",
   "metadata": {},
   "outputs": [
    {
     "data": {
      "text/plain": [
       "<Figure size 288x72 with 0 Axes>"
      ]
     },
     "metadata": {},
     "output_type": "display_data"
    }
   ],
   "source": []
  }
 ],
 "metadata": {
  "kernelspec": {
   "display_name": "Python 3 (ipykernel)",
   "language": "python",
   "name": "python3"
  },
  "language_info": {
   "codemirror_mode": {
    "name": "ipython",
    "version": 3
   },
   "file_extension": ".py",
   "mimetype": "text/x-python",
   "name": "python",
   "nbconvert_exporter": "python",
   "pygments_lexer": "ipython3",
   "version": "3.8.8"
  }
 },
 "nbformat": 4,
 "nbformat_minor": 5
}
