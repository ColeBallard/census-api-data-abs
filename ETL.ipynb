{
 "cells": [
  {
   "cell_type": "markdown",
   "id": "bfe126c1",
   "metadata": {},
   "source": [
    "### Import the necessay libraries"
   ]
  },
  {
   "cell_type": "code",
   "execution_count": 150,
   "id": "6429d252",
   "metadata": {},
   "outputs": [],
   "source": [
    "import requests\n",
    "import pandas as pd\n",
    "import matplotlib.pyplot as plt"
   ]
  },
  {
   "cell_type": "markdown",
   "id": "a57997ea",
   "metadata": {},
   "source": [
    "### Set this option so that you are able to change object values to numeric"
   ]
  },
  {
   "cell_type": "code",
   "execution_count": 32,
   "id": "065d92b7",
   "metadata": {},
   "outputs": [],
   "source": [
    "pd.options.mode.chained_assignment = None"
   ]
  },
  {
   "cell_type": "markdown",
   "id": "2096b0d5",
   "metadata": {},
   "source": [
    "### Use requests to get the api data for company summary from 2019 & 2020\n",
    "\n",
    "You will have to visit this link: https://api.census.gov/data/2018/abscs/examples.html\n",
    "and use the URL for state. You will have to acquire an API key from the website and input it in the link where it says \"YOUR API HERE\""
   ]
  },
  {
   "cell_type": "code",
   "execution_count": 2,
   "id": "ea795c28",
   "metadata": {},
   "outputs": [],
   "source": [
    "data2019 = requests.get('https://api.census.gov/data/2018/abscs?get=NAME,GEO_ID,NAICS2017_LABEL,SEX,ETH_GROUP,RACE_GROUP,VET_GROUP,FIRMPDEMP&for=state:*&NAICS2017=00&key=a4bcb4614372e8f229066cbce694ccdb6b558ef4').json()"
   ]
  },
  {
   "cell_type": "code",
   "execution_count": 3,
   "id": "1c1d4636",
   "metadata": {},
   "outputs": [],
   "source": [
    "data2020 = requests.get('https://api.census.gov/data/2019/abscs?get=NAME,GEO_ID,NAICS2017_LABEL,SEX,ETH_GROUP,RACE_GROUP,VET_GROUP,FIRMPDEMP&for=state:*&NAICS2017=00&key=a4bcb4614372e8f229066cbce694ccdb6b558ef4').json()"
   ]
  },
  {
   "cell_type": "markdown",
   "id": "1fb53b1c",
   "metadata": {},
   "source": [
    "### Convert both api responses into a dataframe"
   ]
  },
  {
   "cell_type": "code",
   "execution_count": 5,
   "id": "4b3d27c4",
   "metadata": {},
   "outputs": [],
   "source": [
    "companysummarystate2019 = pd.DataFrame (data2019[1:], columns= data2019[0])"
   ]
  },
  {
   "cell_type": "code",
   "execution_count": 6,
   "id": "1c743229",
   "metadata": {},
   "outputs": [],
   "source": [
    "companysummarystate2020 = pd.DataFrame(data2020[1:], columns = data2020[0])"
   ]
  },
  {
   "cell_type": "markdown",
   "id": "a11df8a6",
   "metadata": {},
   "source": [
    "### Drop the unneccesary columns"
   ]
  },
  {
   "cell_type": "code",
   "execution_count": 7,
   "id": "84894aec",
   "metadata": {
    "scrolled": true
   },
   "outputs": [],
   "source": [
    "companysummarystate2019.drop(columns = ['GEO_ID','NAICS2017_LABEL','NAICS2017','state'], inplace=True)"
   ]
  },
  {
   "cell_type": "code",
   "execution_count": 8,
   "id": "aa843d5e",
   "metadata": {},
   "outputs": [],
   "source": [
    "companysummarystate2020.drop(columns = ['GEO_ID','NAICS2017_LABEL','NAICS2017','state'], inplace=True)"
   ]
  },
  {
   "cell_type": "markdown",
   "id": "ec125eb9",
   "metadata": {},
   "source": [
    "### Take a look at both the tables to make sure everything looks as expected"
   ]
  },
  {
   "cell_type": "code",
   "execution_count": 9,
   "id": "a2942caa",
   "metadata": {},
   "outputs": [
    {
     "data": {
      "text/html": [
       "<div>\n",
       "<style scoped>\n",
       "    .dataframe tbody tr th:only-of-type {\n",
       "        vertical-align: middle;\n",
       "    }\n",
       "\n",
       "    .dataframe tbody tr th {\n",
       "        vertical-align: top;\n",
       "    }\n",
       "\n",
       "    .dataframe thead th {\n",
       "        text-align: right;\n",
       "    }\n",
       "</style>\n",
       "<table border=\"1\" class=\"dataframe\">\n",
       "  <thead>\n",
       "    <tr style=\"text-align: right;\">\n",
       "      <th></th>\n",
       "      <th>NAME</th>\n",
       "      <th>SEX</th>\n",
       "      <th>ETH_GROUP</th>\n",
       "      <th>RACE_GROUP</th>\n",
       "      <th>VET_GROUP</th>\n",
       "      <th>FIRMPDEMP</th>\n",
       "    </tr>\n",
       "  </thead>\n",
       "  <tbody>\n",
       "    <tr>\n",
       "      <th>0</th>\n",
       "      <td>Mississippi</td>\n",
       "      <td>002</td>\n",
       "      <td>029</td>\n",
       "      <td>00</td>\n",
       "      <td>003</td>\n",
       "      <td>0</td>\n",
       "    </tr>\n",
       "    <tr>\n",
       "      <th>1</th>\n",
       "      <td>Mississippi</td>\n",
       "      <td>003</td>\n",
       "      <td>029</td>\n",
       "      <td>00</td>\n",
       "      <td>003</td>\n",
       "      <td>466</td>\n",
       "    </tr>\n",
       "    <tr>\n",
       "      <th>2</th>\n",
       "      <td>Mississippi</td>\n",
       "      <td>004</td>\n",
       "      <td>029</td>\n",
       "      <td>00</td>\n",
       "      <td>003</td>\n",
       "      <td>572</td>\n",
       "    </tr>\n",
       "    <tr>\n",
       "      <th>3</th>\n",
       "      <td>Mississippi</td>\n",
       "      <td>001</td>\n",
       "      <td>001</td>\n",
       "      <td>30</td>\n",
       "      <td>003</td>\n",
       "      <td>926</td>\n",
       "    </tr>\n",
       "    <tr>\n",
       "      <th>4</th>\n",
       "      <td>Mississippi</td>\n",
       "      <td>096</td>\n",
       "      <td>096</td>\n",
       "      <td>96</td>\n",
       "      <td>096</td>\n",
       "      <td>37489</td>\n",
       "    </tr>\n",
       "  </tbody>\n",
       "</table>\n",
       "</div>"
      ],
      "text/plain": [
       "          NAME  SEX ETH_GROUP RACE_GROUP VET_GROUP FIRMPDEMP\n",
       "0  Mississippi  002       029         00       003         0\n",
       "1  Mississippi  003       029         00       003       466\n",
       "2  Mississippi  004       029         00       003       572\n",
       "3  Mississippi  001       001         30       003       926\n",
       "4  Mississippi  096       096         96       096     37489"
      ]
     },
     "execution_count": 9,
     "metadata": {},
     "output_type": "execute_result"
    }
   ],
   "source": [
    "companysummarystate2019.head()"
   ]
  },
  {
   "cell_type": "code",
   "execution_count": 10,
   "id": "71f96708",
   "metadata": {},
   "outputs": [
    {
     "data": {
      "text/html": [
       "<div>\n",
       "<style scoped>\n",
       "    .dataframe tbody tr th:only-of-type {\n",
       "        vertical-align: middle;\n",
       "    }\n",
       "\n",
       "    .dataframe tbody tr th {\n",
       "        vertical-align: top;\n",
       "    }\n",
       "\n",
       "    .dataframe thead th {\n",
       "        text-align: right;\n",
       "    }\n",
       "</style>\n",
       "<table border=\"1\" class=\"dataframe\">\n",
       "  <thead>\n",
       "    <tr style=\"text-align: right;\">\n",
       "      <th></th>\n",
       "      <th>NAME</th>\n",
       "      <th>SEX</th>\n",
       "      <th>ETH_GROUP</th>\n",
       "      <th>RACE_GROUP</th>\n",
       "      <th>VET_GROUP</th>\n",
       "      <th>FIRMPDEMP</th>\n",
       "    </tr>\n",
       "  </thead>\n",
       "  <tbody>\n",
       "    <tr>\n",
       "      <th>0</th>\n",
       "      <td>Mississippi</td>\n",
       "      <td>001</td>\n",
       "      <td>028</td>\n",
       "      <td>00</td>\n",
       "      <td>001</td>\n",
       "      <td>93</td>\n",
       "    </tr>\n",
       "    <tr>\n",
       "      <th>1</th>\n",
       "      <td>Mississippi</td>\n",
       "      <td>003</td>\n",
       "      <td>028</td>\n",
       "      <td>00</td>\n",
       "      <td>001</td>\n",
       "      <td>0</td>\n",
       "    </tr>\n",
       "    <tr>\n",
       "      <th>2</th>\n",
       "      <td>Mississippi</td>\n",
       "      <td>002</td>\n",
       "      <td>029</td>\n",
       "      <td>50</td>\n",
       "      <td>001</td>\n",
       "      <td>0</td>\n",
       "    </tr>\n",
       "    <tr>\n",
       "      <th>3</th>\n",
       "      <td>Mississippi</td>\n",
       "      <td>003</td>\n",
       "      <td>029</td>\n",
       "      <td>50</td>\n",
       "      <td>001</td>\n",
       "      <td>51</td>\n",
       "    </tr>\n",
       "    <tr>\n",
       "      <th>4</th>\n",
       "      <td>Mississippi</td>\n",
       "      <td>001</td>\n",
       "      <td>001</td>\n",
       "      <td>60</td>\n",
       "      <td>001</td>\n",
       "      <td>2489</td>\n",
       "    </tr>\n",
       "  </tbody>\n",
       "</table>\n",
       "</div>"
      ],
      "text/plain": [
       "          NAME  SEX ETH_GROUP RACE_GROUP VET_GROUP FIRMPDEMP\n",
       "0  Mississippi  001       028         00       001        93\n",
       "1  Mississippi  003       028         00       001         0\n",
       "2  Mississippi  002       029         50       001         0\n",
       "3  Mississippi  003       029         50       001        51\n",
       "4  Mississippi  001       001         60       001      2489"
      ]
     },
     "execution_count": 10,
     "metadata": {},
     "output_type": "execute_result"
    }
   ],
   "source": [
    "companysummarystate2020.head()"
   ]
  },
  {
   "cell_type": "markdown",
   "id": "1dd64e3e",
   "metadata": {},
   "source": [
    "### Check to see if there are any null values in the FIRMDEMP column for each table"
   ]
  },
  {
   "cell_type": "code",
   "execution_count": 11,
   "id": "5dbd6f60",
   "metadata": {},
   "outputs": [
    {
     "data": {
      "text/plain": [
       "False    9668\n",
       "Name: FIRMPDEMP, dtype: int64"
      ]
     },
     "execution_count": 11,
     "metadata": {},
     "output_type": "execute_result"
    }
   ],
   "source": [
    "companysummarystate2019.FIRMPDEMP.isna().value_counts()"
   ]
  },
  {
   "cell_type": "code",
   "execution_count": 12,
   "id": "f6dcf83e",
   "metadata": {},
   "outputs": [
    {
     "data": {
      "text/plain": [
       "False    9641\n",
       "Name: FIRMPDEMP, dtype: int64"
      ]
     },
     "execution_count": 12,
     "metadata": {},
     "output_type": "execute_result"
    }
   ],
   "source": [
    "companysummarystate2020.FIRMPDEMP.isna().value_counts()"
   ]
  },
  {
   "cell_type": "markdown",
   "id": "0ccddda5",
   "metadata": {},
   "source": [
    "### Merge the two tables on all columns except FIRMDEMP"
   ]
  },
  {
   "cell_type": "code",
   "execution_count": 13,
   "id": "f8d01748",
   "metadata": {},
   "outputs": [],
   "source": [
    "statemerge = companysummarystate2019.merge(companysummarystate2020, on=['NAME', 'SEX', 'ETH_GROUP', 'RACE_GROUP', 'VET_GROUP'], how='inner', suffixes = ('_2019', '_2020') )"
   ]
  },
  {
   "cell_type": "markdown",
   "id": "495b05c3",
   "metadata": {},
   "source": [
    "#### NOTE:\n",
    "The totals for each column are 001, except Race_Group which is 00.\n",
    "\n",
    "Make sure that you filter for totals on all the other columns except for the ones you are looking at. (Ex: If you are looking for all male owned businesses, you filter for 003 on the sex column, 001 on eth group, vet group, and 00 on race group)"
   ]
  },
  {
   "cell_type": "markdown",
   "id": "830edbed",
   "metadata": {},
   "source": [
    "### "
   ]
  },
  {
   "cell_type": "markdown",
   "id": "d937c74c",
   "metadata": {},
   "source": [
    "### Create a Change column to see the difference between the two years"
   ]
  },
  {
   "cell_type": "code",
   "execution_count": null,
   "id": "8308d831",
   "metadata": {},
   "outputs": [],
   "source": [
    "statemerge['CHANGE'] = statemerge['FIRMPDEMP_2020'] - statemerge['FIRMPDEMP_2019']"
   ]
  },
  {
   "cell_type": "markdown",
   "id": "e2673624",
   "metadata": {},
   "source": [
    "### Optional: Rename the values in the sex column so that the values are understandable\n",
    "\n",
    "If you are planning on displaying or presenting this data, you could do this for any column that you wish to display. The meanings of the values are found here: https://www2.census.gov/programs-surveys/abs/technical-documentation/api/API2020-company-summary-10-4-2021.pdf"
   ]
  },
  {
   "cell_type": "code",
   "execution_count": 182,
   "id": "13928c68",
   "metadata": {},
   "outputs": [],
   "source": [
    "statemerge.loc[statemerge[\"SEX\"] == \"001\", \"SEX\"] = 'Total'\n",
    "statemerge.loc[statemerge[\"SEX\"] == \"002\", \"SEX\"] = 'Female'\n",
    "statemerge.loc[statemerge[\"SEX\"] == \"003\", \"SEX\"] = 'Male'\n",
    "statemerge.loc[statemerge[\"SEX\"] == \"004\", \"SEX\"] = 'Non-Binary'"
   ]
  },
  {
   "cell_type": "markdown",
   "id": "24ac6705",
   "metadata": {},
   "source": [
    "### Change FIRMDEMP for both years to a numeric value"
   ]
  },
  {
   "cell_type": "code",
   "execution_count": 184,
   "id": "cf917776",
   "metadata": {},
   "outputs": [],
   "source": [
    "statemerge['FIRMPDEMP_2020'] = pd.to_numeric(statemerge['FIRMPDEMP_2020'])"
   ]
  },
  {
   "cell_type": "code",
   "execution_count": 185,
   "id": "e3162815",
   "metadata": {},
   "outputs": [],
   "source": [
    "statemerge['FIRMPDEMP_2019'] = pd.to_numeric(statemerge['FIRMPDEMP_2019'])"
   ]
  },
  {
   "cell_type": "markdown",
   "id": "82e843b5",
   "metadata": {},
   "source": [
    "# "
   ]
  },
  {
   "cell_type": "markdown",
   "id": "4970c85a",
   "metadata": {},
   "source": [
    "# "
   ]
  },
  {
   "cell_type": "markdown",
   "id": "1f10e246",
   "metadata": {},
   "source": [
    "## VISUALIZATIONS"
   ]
  },
  {
   "cell_type": "code",
   "execution_count": 199,
   "id": "b2d1485b",
   "metadata": {},
   "outputs": [],
   "source": [
    "bfilter = statemerge[(statemerge['RACE_GROUP'] == '90') & (statemerge['VET_GROUP'] == '001') & (statemerge['ETH_GROUP']== '001')]"
   ]
  },
  {
   "cell_type": "code",
   "execution_count": 202,
   "id": "ede23c71",
   "metadata": {},
   "outputs": [],
   "source": [
    "black = bfilter.groupby(\"SEX\").sum(\"FIRMPDEMP_2019\")"
   ]
  },
  {
   "cell_type": "code",
   "execution_count": 203,
   "id": "c959f6a1",
   "metadata": {
    "scrolled": true
   },
   "outputs": [
    {
     "data": {
      "text/plain": [
       "<matplotlib.legend.Legend at 0x1be02f7ffd0>"
      ]
     },
     "execution_count": 203,
     "metadata": {},
     "output_type": "execute_result"
    },
    {
     "data": {
      "image/png": "[encoded data removed]",
      "text/plain": [
       "<Figure size 1080x432 with 1 Axes>"
      ]
     },
     "metadata": {
      "needs_background": "light"
     },
     "output_type": "display_data"
    }
   ],
   "source": [
    "ax = black.plot(title = 'Number of Black Owned Businesses by Sex in 2019 and 2020', ylabel = 'Number of Businesses', y= ['FIRMPDEMP_2019', 'FIRMPDEMP_2020'], kind ='bar', use_index =True, figsize=(15, 6))\n",
    "ax.legend([\"2019\", \"2020\"])"
   ]
  },
  {
   "cell_type": "code",
   "execution_count": 194,
   "id": "0f3e6691",
   "metadata": {},
   "outputs": [],
   "source": [
    "bfilter = statemerge[(statemerge['SEX'] == 'Total') & (statemerge['RACE_GROUP'] == '90') & (statemerge['VET_GROUP'] == '001') & (statemerge['ETH_GROUP']== '001')]"
   ]
  },
  {
   "cell_type": "code",
   "execution_count": 195,
   "id": "d3bb459e",
   "metadata": {},
   "outputs": [],
   "source": [
    "bbusinesslost = bfilter.groupby('NAME').sum('CHANGE').nsmallest(7, 'CHANGE')"
   ]
  },
  {
   "cell_type": "code",
   "execution_count": 204,
   "id": "f30aa6b7",
   "metadata": {
    "scrolled": true
   },
   "outputs": [
    {
     "data": {
      "text/plain": [
       "Text(0.5, 1.0, 'States That Lost the Most Black Owned Businesses Between 2019 & 2020')"
      ]
     },
     "execution_count": 204,
     "metadata": {},
     "output_type": "execute_result"
    },
    {
     "data": {
      "image/png": "[encoded data removed]",
      "text/plain": [
       "<Figure size 1080x576 with 1 Axes>"
      ]
     },
     "metadata": {
      "needs_background": "light"
     },
     "output_type": "display_data"
    }
   ],
   "source": [
    "fig, ax = plt.subplots()\n",
    "bbusinesslost.plot(kind='barh', ax=ax, y= 'CHANGE', figsize = (15,8))\n",
    "ax.set_ylabel('STATES')\n",
    "ax.set_xlabel('Business Lost Between 2019 and 2020')\n",
    "ax.set_title('States That Lost the Most Black Owned Businesses Between 2019 & 2020')\n",
    "#ax = df.plot(kind='bar') # \"same\" as above"
   ]
  },
  {
   "cell_type": "code",
   "execution_count": 205,
   "id": "2450754d",
   "metadata": {},
   "outputs": [],
   "source": [
    "bbusinessgained = bfilter.groupby('NAME').sum('CHANGE').nlargest(7, 'CHANGE')"
   ]
  },
  {
   "cell_type": "code",
   "execution_count": 206,
   "id": "9aa50c67",
   "metadata": {},
   "outputs": [
    {
     "data": {
      "text/plain": [
       "Text(0.5, 1.0, 'States That Gained the Most Black Owned Businesses Between 2019 & 2020')"
      ]
     },
     "execution_count": 206,
     "metadata": {},
     "output_type": "execute_result"
    },
    {
     "data": {
      "image/png": "[encoded data removed]",
      "text/plain": [
       "<Figure size 1080x576 with 1 Axes>"
      ]
     },
     "metadata": {
      "needs_background": "light"
     },
     "output_type": "display_data"
    }
   ],
   "source": [
    "fig, ax = plt.subplots()\n",
    "bbusinessgained.plot(kind='barh', ax=ax, y= 'CHANGE', figsize = (15,8))\n",
    "ax.set_ylabel('STATES')\n",
    "ax.set_xlabel('Business Gained Between 2019 and 2020')\n",
    "ax.set_title('States That Gained the Most Black Owned Businesses Between 2019 & 2020')\n",
    "#ax = df.plot(kind='bar') # \"same\" as above"
   ]
  },
  {
   "cell_type": "code",
   "execution_count": 207,
   "id": "810f420b",
   "metadata": {},
   "outputs": [],
   "source": [
    "sexfilter = statemerge[(statemerge['SEX'] != 'Non-Binary') & (statemerge['SEX'] != 'Total') & (statemerge['RACE_GROUP'] == '00') & (statemerge['VET_GROUP'] == '001') & (statemerge['ETH_GROUP']== '001')]"
   ]
  },
  {
   "cell_type": "code",
   "execution_count": 208,
   "id": "f2980d7b",
   "metadata": {},
   "outputs": [
    {
     "data": {
      "text/html": [
       "<div>\n",
       "<style scoped>\n",
       "    .dataframe tbody tr th:only-of-type {\n",
       "        vertical-align: middle;\n",
       "    }\n",
       "\n",
       "    .dataframe tbody tr th {\n",
       "        vertical-align: top;\n",
       "    }\n",
       "\n",
       "    .dataframe thead th {\n",
       "        text-align: right;\n",
       "    }\n",
       "</style>\n",
       "<table border=\"1\" class=\"dataframe\">\n",
       "  <thead>\n",
       "    <tr style=\"text-align: right;\">\n",
       "      <th></th>\n",
       "      <th>NAME</th>\n",
       "      <th>SEX</th>\n",
       "      <th>ETH_GROUP</th>\n",
       "      <th>RACE_GROUP</th>\n",
       "      <th>VET_GROUP</th>\n",
       "      <th>FIRMPDEMP_2019</th>\n",
       "      <th>FIRMPDEMP_2020</th>\n",
       "      <th>CHANGE</th>\n",
       "    </tr>\n",
       "  </thead>\n",
       "  <tbody>\n",
       "    <tr>\n",
       "      <th>4</th>\n",
       "      <td>Mississippi</td>\n",
       "      <td>Female</td>\n",
       "      <td>001</td>\n",
       "      <td>00</td>\n",
       "      <td>001</td>\n",
       "      <td>6659</td>\n",
       "      <td>7751</td>\n",
       "      <td>1092</td>\n",
       "    </tr>\n",
       "    <tr>\n",
       "      <th>5</th>\n",
       "      <td>Mississippi</td>\n",
       "      <td>Male</td>\n",
       "      <td>001</td>\n",
       "      <td>00</td>\n",
       "      <td>001</td>\n",
       "      <td>25943</td>\n",
       "      <td>24533</td>\n",
       "      <td>-1410</td>\n",
       "    </tr>\n",
       "    <tr>\n",
       "      <th>290</th>\n",
       "      <td>Missouri</td>\n",
       "      <td>Female</td>\n",
       "      <td>001</td>\n",
       "      <td>00</td>\n",
       "      <td>001</td>\n",
       "      <td>20311</td>\n",
       "      <td>23913</td>\n",
       "      <td>3602</td>\n",
       "    </tr>\n",
       "    <tr>\n",
       "      <th>306</th>\n",
       "      <td>Missouri</td>\n",
       "      <td>Male</td>\n",
       "      <td>001</td>\n",
       "      <td>00</td>\n",
       "      <td>001</td>\n",
       "      <td>59319</td>\n",
       "      <td>58367</td>\n",
       "      <td>-952</td>\n",
       "    </tr>\n",
       "    <tr>\n",
       "      <th>390</th>\n",
       "      <td>Montana</td>\n",
       "      <td>Female</td>\n",
       "      <td>001</td>\n",
       "      <td>00</td>\n",
       "      <td>001</td>\n",
       "      <td>5584</td>\n",
       "      <td>6079</td>\n",
       "      <td>495</td>\n",
       "    </tr>\n",
       "    <tr>\n",
       "      <th>...</th>\n",
       "      <td>...</td>\n",
       "      <td>...</td>\n",
       "      <td>...</td>\n",
       "      <td>...</td>\n",
       "      <td>...</td>\n",
       "      <td>...</td>\n",
       "      <td>...</td>\n",
       "      <td>...</td>\n",
       "    </tr>\n",
       "    <tr>\n",
       "      <th>8230</th>\n",
       "      <td>Iowa</td>\n",
       "      <td>Male</td>\n",
       "      <td>001</td>\n",
       "      <td>00</td>\n",
       "      <td>001</td>\n",
       "      <td>34277</td>\n",
       "      <td>33644</td>\n",
       "      <td>-633</td>\n",
       "    </tr>\n",
       "    <tr>\n",
       "      <th>8379</th>\n",
       "      <td>Maryland</td>\n",
       "      <td>Female</td>\n",
       "      <td>001</td>\n",
       "      <td>00</td>\n",
       "      <td>001</td>\n",
       "      <td>22668</td>\n",
       "      <td>23583</td>\n",
       "      <td>915</td>\n",
       "    </tr>\n",
       "    <tr>\n",
       "      <th>8529</th>\n",
       "      <td>Maryland</td>\n",
       "      <td>Male</td>\n",
       "      <td>001</td>\n",
       "      <td>00</td>\n",
       "      <td>001</td>\n",
       "      <td>63860</td>\n",
       "      <td>62230</td>\n",
       "      <td>-1630</td>\n",
       "    </tr>\n",
       "    <tr>\n",
       "      <th>8842</th>\n",
       "      <td>Texas</td>\n",
       "      <td>Female</td>\n",
       "      <td>001</td>\n",
       "      <td>00</td>\n",
       "      <td>001</td>\n",
       "      <td>84697</td>\n",
       "      <td>94432</td>\n",
       "      <td>9735</td>\n",
       "    </tr>\n",
       "    <tr>\n",
       "      <th>8887</th>\n",
       "      <td>Texas</td>\n",
       "      <td>Male</td>\n",
       "      <td>001</td>\n",
       "      <td>00</td>\n",
       "      <td>001</td>\n",
       "      <td>249944</td>\n",
       "      <td>254733</td>\n",
       "      <td>4789</td>\n",
       "    </tr>\n",
       "  </tbody>\n",
       "</table>\n",
       "<p>102 rows × 8 columns</p>\n",
       "</div>"
      ],
      "text/plain": [
       "             NAME     SEX ETH_GROUP RACE_GROUP VET_GROUP  FIRMPDEMP_2019  \\\n",
       "4     Mississippi  Female       001         00       001            6659   \n",
       "5     Mississippi    Male       001         00       001           25943   \n",
       "290      Missouri  Female       001         00       001           20311   \n",
       "306      Missouri    Male       001         00       001           59319   \n",
       "390       Montana  Female       001         00       001            5584   \n",
       "...           ...     ...       ...        ...       ...             ...   \n",
       "8230         Iowa    Male       001         00       001           34277   \n",
       "8379     Maryland  Female       001         00       001           22668   \n",
       "8529     Maryland    Male       001         00       001           63860   \n",
       "8842        Texas  Female       001         00       001           84697   \n",
       "8887        Texas    Male       001         00       001          249944   \n",
       "\n",
       "      FIRMPDEMP_2020  CHANGE  \n",
       "4               7751    1092  \n",
       "5              24533   -1410  \n",
       "290            23913    3602  \n",
       "306            58367    -952  \n",
       "390             6079     495  \n",
       "...              ...     ...  \n",
       "8230           33644    -633  \n",
       "8379           23583     915  \n",
       "8529           62230   -1630  \n",
       "8842           94432    9735  \n",
       "8887          254733    4789  \n",
       "\n",
       "[102 rows x 8 columns]"
      ]
     },
     "execution_count": 208,
     "metadata": {},
     "output_type": "execute_result"
    }
   ],
   "source": [
    "sexfilter"
   ]
  },
  {
   "cell_type": "code",
   "execution_count": 209,
   "id": "d8f850af",
   "metadata": {},
   "outputs": [],
   "source": [
    "mf = sexfilter.groupby('SEX').sum('FIRMPDEMP_2019')"
   ]
  },
  {
   "cell_type": "code",
   "execution_count": 210,
   "id": "f84d40ef",
   "metadata": {},
   "outputs": [
    {
     "data": {
      "text/plain": [
       "<matplotlib.legend.Legend at 0x1be035cca30>"
      ]
     },
     "execution_count": 210,
     "metadata": {},
     "output_type": "execute_result"
    },
    {
     "data": {
      "image/png": "[encoded data removed]",
      "text/plain": [
       "<Figure size 720x720 with 1 Axes>"
      ]
     },
     "metadata": {},
     "output_type": "display_data"
    }
   ],
   "source": [
    "mf.plot.pie(title = 'Female vs Male owned businesses in 2019',y='FIRMPDEMP_2019', autopct='%1.0f%%', colors = ['pink', 'grey'], ylabel = '',figsize=(10,10)).legend(['FEMALE', 'MALE'])"
   ]
  },
  {
   "cell_type": "code",
   "execution_count": 211,
   "id": "f06490b3",
   "metadata": {},
   "outputs": [
    {
     "data": {
      "text/plain": [
       "<matplotlib.legend.Legend at 0x1be035c4a00>"
      ]
     },
     "execution_count": 211,
     "metadata": {},
     "output_type": "execute_result"
    },
    {
     "data": {
      "image/png": "[encoded data removed]",
      "text/plain": [
       "<Figure size 720x720 with 1 Axes>"
      ]
     },
     "metadata": {},
     "output_type": "display_data"
    }
   ],
   "source": [
    "mf.plot.pie(title = 'Female vs Male owned businesses in 2020',y='FIRMPDEMP_2020', autopct='%1.0f%%', colors = ['pink', 'grey'], ylabel = '',figsize=(10,10)).legend(['FEMALE', 'MALE'])"
   ]
  },
  {
   "cell_type": "code",
   "execution_count": null,
   "id": "e0944c4b",
   "metadata": {},
   "outputs": [],
   "source": []
  }
 ],
 "metadata": {
  "kernelspec": {
   "display_name": "Python 3 (ipykernel)",
   "language": "python",
   "name": "python3"
  },
  "language_info": {
   "codemirror_mode": {
    "name": "ipython",
    "version": 3
   },
   "file_extension": ".py",
   "mimetype": "text/x-python",
   "name": "python",
   "nbconvert_exporter": "python",
   "pygments_lexer": "ipython3",
   "version": "3.8.8"
  }
 },
 "nbformat": 4,
 "nbformat_minor": 5
}
