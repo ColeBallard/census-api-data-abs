{
 "cells": [
  {
   "cell_type": "code",
   "execution_count": 189,
   "id": "6429d252",
   "metadata": {},
   "outputs": [],
   "source": [
    "import requests\n",
    "import pandas as pd"
   ]
  },
  {
   "cell_type": "code",
   "execution_count": 190,
   "id": "e54e5e4c",
   "metadata": {},
   "outputs": [],
   "source": [
    "import config"
   ]
  },
  {
   "cell_type": "code",
   "execution_count": 191,
   "id": "e198769e",
   "metadata": {},
   "outputs": [],
   "source": [
    "data2019 = requests.get(f'https://api.census.gov/data/2018/abscs?get=NAME,GEO_ID,NAICS2017_LABEL,SEX,ETH_GROUP,RACE_GROUP,VET_GROUP,FIRMPDEMP&for=state:*&NAICS2017=00&key={config.apiKey}').json()"
   ]
  },
  {
   "cell_type": "code",
   "execution_count": 192,
   "id": "45446068",
   "metadata": {},
   "outputs": [],
   "source": [
    "data2020 = requests.get(f'https://api.census.gov/data/2019/abscs?get=NAME,GEO_ID,NAICS2017_LABEL,SEX,ETH_GROUP,RACE_GROUP,VET_GROUP,FIRMPDEMP&for=state:*&NAICS2017=00&key={config.apiKey}').json()"
   ]
  },
  {
   "cell_type": "code",
   "execution_count": 193,
   "id": "4b3d27c4",
   "metadata": {},
   "outputs": [],
   "source": [
    "companysummarystate2019 = pd.DataFrame (data2019[1:], columns= data2019[0])"
   ]
  },
  {
   "cell_type": "code",
   "execution_count": 194,
   "id": "4b9b608f",
   "metadata": {},
   "outputs": [],
   "source": [
    "companysummarystate2020 = pd.DataFrame(data2020[1:], columns = data2020[0])"
   ]
  },
  {
   "cell_type": "code",
   "execution_count": 195,
   "id": "688ec796",
   "metadata": {
    "scrolled": true
   },
   "outputs": [],
   "source": [
    "companysummarystate2019.drop(columns = ['GEO_ID','NAICS2017_LABEL','NAICS2017','state'], inplace=True)"
   ]
  },
  {
   "cell_type": "code",
   "execution_count": 196,
   "id": "c2a005be",
   "metadata": {},
   "outputs": [],
   "source": [
    "companysummarystate2020.drop(columns = ['GEO_ID','NAICS2017_LABEL','NAICS2017','state'], inplace=True)"
   ]
  },
  {
   "cell_type": "code",
   "execution_count": 197,
   "id": "900c1dcd",
   "metadata": {},
   "outputs": [
    {
     "data": {
      "text/html": [
       "<div>\n",
       "<style scoped>\n",
       "    .dataframe tbody tr th:only-of-type {\n",
       "        vertical-align: middle;\n",
       "    }\n",
       "\n",
       "    .dataframe tbody tr th {\n",
       "        vertical-align: top;\n",
       "    }\n",
       "\n",
       "    .dataframe thead th {\n",
       "        text-align: right;\n",
       "    }\n",
       "</style>\n",
       "<table border=\"1\" class=\"dataframe\">\n",
       "  <thead>\n",
       "    <tr style=\"text-align: right;\">\n",
       "      <th></th>\n",
       "      <th>NAME</th>\n",
       "      <th>SEX</th>\n",
       "      <th>ETH_GROUP</th>\n",
       "      <th>RACE_GROUP</th>\n",
       "      <th>VET_GROUP</th>\n",
       "      <th>FIRMPDEMP</th>\n",
       "    </tr>\n",
       "  </thead>\n",
       "  <tbody>\n",
       "    <tr>\n",
       "      <th>0</th>\n",
       "      <td>Mississippi</td>\n",
       "      <td>002</td>\n",
       "      <td>029</td>\n",
       "      <td>00</td>\n",
       "      <td>003</td>\n",
       "      <td>0</td>\n",
       "    </tr>\n",
       "    <tr>\n",
       "      <th>1</th>\n",
       "      <td>Mississippi</td>\n",
       "      <td>003</td>\n",
       "      <td>029</td>\n",
       "      <td>00</td>\n",
       "      <td>003</td>\n",
       "      <td>466</td>\n",
       "    </tr>\n",
       "    <tr>\n",
       "      <th>2</th>\n",
       "      <td>Mississippi</td>\n",
       "      <td>004</td>\n",
       "      <td>029</td>\n",
       "      <td>00</td>\n",
       "      <td>003</td>\n",
       "      <td>572</td>\n",
       "    </tr>\n",
       "    <tr>\n",
       "      <th>3</th>\n",
       "      <td>Mississippi</td>\n",
       "      <td>001</td>\n",
       "      <td>001</td>\n",
       "      <td>30</td>\n",
       "      <td>003</td>\n",
       "      <td>926</td>\n",
       "    </tr>\n",
       "    <tr>\n",
       "      <th>4</th>\n",
       "      <td>Mississippi</td>\n",
       "      <td>096</td>\n",
       "      <td>096</td>\n",
       "      <td>96</td>\n",
       "      <td>096</td>\n",
       "      <td>37489</td>\n",
       "    </tr>\n",
       "  </tbody>\n",
       "</table>\n",
       "</div>"
      ],
      "text/plain": [
       "          NAME  SEX ETH_GROUP RACE_GROUP VET_GROUP FIRMPDEMP\n",
       "0  Mississippi  002       029         00       003         0\n",
       "1  Mississippi  003       029         00       003       466\n",
       "2  Mississippi  004       029         00       003       572\n",
       "3  Mississippi  001       001         30       003       926\n",
       "4  Mississippi  096       096         96       096     37489"
      ]
     },
     "execution_count": 197,
     "metadata": {},
     "output_type": "execute_result"
    }
   ],
   "source": [
    "companysummarystate2019.head()"
   ]
  },
  {
   "cell_type": "code",
   "execution_count": 198,
   "id": "1f830a5b",
   "metadata": {},
   "outputs": [
    {
     "data": {
      "text/html": [
       "<div>\n",
       "<style scoped>\n",
       "    .dataframe tbody tr th:only-of-type {\n",
       "        vertical-align: middle;\n",
       "    }\n",
       "\n",
       "    .dataframe tbody tr th {\n",
       "        vertical-align: top;\n",
       "    }\n",
       "\n",
       "    .dataframe thead th {\n",
       "        text-align: right;\n",
       "    }\n",
       "</style>\n",
       "<table border=\"1\" class=\"dataframe\">\n",
       "  <thead>\n",
       "    <tr style=\"text-align: right;\">\n",
       "      <th></th>\n",
       "      <th>NAME</th>\n",
       "      <th>SEX</th>\n",
       "      <th>ETH_GROUP</th>\n",
       "      <th>RACE_GROUP</th>\n",
       "      <th>VET_GROUP</th>\n",
       "      <th>FIRMPDEMP</th>\n",
       "    </tr>\n",
       "  </thead>\n",
       "  <tbody>\n",
       "    <tr>\n",
       "      <th>0</th>\n",
       "      <td>Mississippi</td>\n",
       "      <td>001</td>\n",
       "      <td>028</td>\n",
       "      <td>00</td>\n",
       "      <td>001</td>\n",
       "      <td>93</td>\n",
       "    </tr>\n",
       "    <tr>\n",
       "      <th>1</th>\n",
       "      <td>Mississippi</td>\n",
       "      <td>003</td>\n",
       "      <td>028</td>\n",
       "      <td>00</td>\n",
       "      <td>001</td>\n",
       "      <td>0</td>\n",
       "    </tr>\n",
       "    <tr>\n",
       "      <th>2</th>\n",
       "      <td>Mississippi</td>\n",
       "      <td>002</td>\n",
       "      <td>029</td>\n",
       "      <td>50</td>\n",
       "      <td>001</td>\n",
       "      <td>0</td>\n",
       "    </tr>\n",
       "    <tr>\n",
       "      <th>3</th>\n",
       "      <td>Mississippi</td>\n",
       "      <td>003</td>\n",
       "      <td>029</td>\n",
       "      <td>50</td>\n",
       "      <td>001</td>\n",
       "      <td>51</td>\n",
       "    </tr>\n",
       "    <tr>\n",
       "      <th>4</th>\n",
       "      <td>Mississippi</td>\n",
       "      <td>001</td>\n",
       "      <td>001</td>\n",
       "      <td>60</td>\n",
       "      <td>001</td>\n",
       "      <td>2489</td>\n",
       "    </tr>\n",
       "  </tbody>\n",
       "</table>\n",
       "</div>"
      ],
      "text/plain": [
       "          NAME  SEX ETH_GROUP RACE_GROUP VET_GROUP FIRMPDEMP\n",
       "0  Mississippi  001       028         00       001        93\n",
       "1  Mississippi  003       028         00       001         0\n",
       "2  Mississippi  002       029         50       001         0\n",
       "3  Mississippi  003       029         50       001        51\n",
       "4  Mississippi  001       001         60       001      2489"
      ]
     },
     "execution_count": 198,
     "metadata": {},
     "output_type": "execute_result"
    }
   ],
   "source": [
    "companysummarystate2020.head()"
   ]
  },
  {
   "cell_type": "code",
   "execution_count": 199,
   "id": "7543b5ef",
   "metadata": {},
   "outputs": [
    {
     "data": {
      "text/plain": [
       "False    9668\n",
       "Name: FIRMPDEMP, dtype: int64"
      ]
     },
     "execution_count": 199,
     "metadata": {},
     "output_type": "execute_result"
    }
   ],
   "source": [
    "companysummarystate2019.FIRMPDEMP.isna().value_counts()"
   ]
  },
  {
   "cell_type": "code",
   "execution_count": 200,
   "id": "80e35b8f",
   "metadata": {},
   "outputs": [
    {
     "data": {
      "text/plain": [
       "False    9641\n",
       "Name: FIRMPDEMP, dtype: int64"
      ]
     },
     "execution_count": 200,
     "metadata": {},
     "output_type": "execute_result"
    }
   ],
   "source": [
    "companysummarystate2020.FIRMPDEMP.isna().value_counts()"
   ]
  },
  {
   "cell_type": "code",
   "execution_count": 201,
   "id": "cbda8f80",
   "metadata": {},
   "outputs": [],
   "source": [
    "statemerge = companysummarystate2019.merge(companysummarystate2020, on=['NAME', 'SEX', 'ETH_GROUP', 'RACE_GROUP', 'VET_GROUP'], how='inner', suffixes = ('_2019', '_2020') )"
   ]
  },
  {
   "cell_type": "markdown",
   "id": "31372314",
   "metadata": {},
   "source": [
    "The totals for each column are 001, except Race_Group which is 00.\n",
    "Make sure that you filter for totals on all the other columns except for the ones you are looking at fo"
   ]
  },
  {
   "cell_type": "code",
   "execution_count": 202,
   "id": "49cb6de3",
   "metadata": {},
   "outputs": [
    {
     "data": {
      "text/html": [
       "<div>\n",
       "<style scoped>\n",
       "    .dataframe tbody tr th:only-of-type {\n",
       "        vertical-align: middle;\n",
       "    }\n",
       "\n",
       "    .dataframe tbody tr th {\n",
       "        vertical-align: top;\n",
       "    }\n",
       "\n",
       "    .dataframe thead th {\n",
       "        text-align: right;\n",
       "    }\n",
       "</style>\n",
       "<table border=\"1\" class=\"dataframe\">\n",
       "  <thead>\n",
       "    <tr style=\"text-align: right;\">\n",
       "      <th></th>\n",
       "      <th>NAME</th>\n",
       "      <th>SEX</th>\n",
       "      <th>ETH_GROUP</th>\n",
       "      <th>RACE_GROUP</th>\n",
       "      <th>VET_GROUP</th>\n",
       "      <th>FIRMPDEMP_2019</th>\n",
       "      <th>FIRMPDEMP_2020</th>\n",
       "    </tr>\n",
       "  </thead>\n",
       "  <tbody>\n",
       "    <tr>\n",
       "      <th>0</th>\n",
       "      <td>Mississippi</td>\n",
       "      <td>003</td>\n",
       "      <td>029</td>\n",
       "      <td>00</td>\n",
       "      <td>003</td>\n",
       "      <td>466</td>\n",
       "      <td>334</td>\n",
       "    </tr>\n",
       "    <tr>\n",
       "      <th>1</th>\n",
       "      <td>Mississippi</td>\n",
       "      <td>004</td>\n",
       "      <td>029</td>\n",
       "      <td>00</td>\n",
       "      <td>003</td>\n",
       "      <td>572</td>\n",
       "      <td>0</td>\n",
       "    </tr>\n",
       "    <tr>\n",
       "      <th>2</th>\n",
       "      <td>Mississippi</td>\n",
       "      <td>001</td>\n",
       "      <td>001</td>\n",
       "      <td>30</td>\n",
       "      <td>003</td>\n",
       "      <td>926</td>\n",
       "      <td>801</td>\n",
       "    </tr>\n",
       "    <tr>\n",
       "      <th>3</th>\n",
       "      <td>Mississippi</td>\n",
       "      <td>096</td>\n",
       "      <td>096</td>\n",
       "      <td>96</td>\n",
       "      <td>096</td>\n",
       "      <td>37489</td>\n",
       "      <td>37057</td>\n",
       "    </tr>\n",
       "    <tr>\n",
       "      <th>4</th>\n",
       "      <td>Mississippi</td>\n",
       "      <td>002</td>\n",
       "      <td>001</td>\n",
       "      <td>00</td>\n",
       "      <td>001</td>\n",
       "      <td>6659</td>\n",
       "      <td>7751</td>\n",
       "    </tr>\n",
       "    <tr>\n",
       "      <th>...</th>\n",
       "      <td>...</td>\n",
       "      <td>...</td>\n",
       "      <td>...</td>\n",
       "      <td>...</td>\n",
       "      <td>...</td>\n",
       "      <td>...</td>\n",
       "      <td>...</td>\n",
       "    </tr>\n",
       "    <tr>\n",
       "      <th>9133</th>\n",
       "      <td>Minnesota</td>\n",
       "      <td>002</td>\n",
       "      <td>029</td>\n",
       "      <td>00</td>\n",
       "      <td>003</td>\n",
       "      <td>0</td>\n",
       "      <td>0</td>\n",
       "    </tr>\n",
       "    <tr>\n",
       "      <th>9134</th>\n",
       "      <td>Minnesota</td>\n",
       "      <td>003</td>\n",
       "      <td>029</td>\n",
       "      <td>00</td>\n",
       "      <td>003</td>\n",
       "      <td>941</td>\n",
       "      <td>1128</td>\n",
       "    </tr>\n",
       "    <tr>\n",
       "      <th>9135</th>\n",
       "      <td>Minnesota</td>\n",
       "      <td>004</td>\n",
       "      <td>029</td>\n",
       "      <td>00</td>\n",
       "      <td>003</td>\n",
       "      <td>0</td>\n",
       "      <td>1877</td>\n",
       "    </tr>\n",
       "    <tr>\n",
       "      <th>9136</th>\n",
       "      <td>Minnesota</td>\n",
       "      <td>001</td>\n",
       "      <td>001</td>\n",
       "      <td>30</td>\n",
       "      <td>003</td>\n",
       "      <td>0</td>\n",
       "      <td>3025</td>\n",
       "    </tr>\n",
       "    <tr>\n",
       "      <th>9137</th>\n",
       "      <td>Minnesota</td>\n",
       "      <td>096</td>\n",
       "      <td>096</td>\n",
       "      <td>96</td>\n",
       "      <td>096</td>\n",
       "      <td>105997</td>\n",
       "      <td>105316</td>\n",
       "    </tr>\n",
       "  </tbody>\n",
       "</table>\n",
       "<p>9138 rows × 7 columns</p>\n",
       "</div>"
      ],
      "text/plain": [
       "             NAME  SEX ETH_GROUP RACE_GROUP VET_GROUP FIRMPDEMP_2019  \\\n",
       "0     Mississippi  003       029         00       003            466   \n",
       "1     Mississippi  004       029         00       003            572   \n",
       "2     Mississippi  001       001         30       003            926   \n",
       "3     Mississippi  096       096         96       096          37489   \n",
       "4     Mississippi  002       001         00       001           6659   \n",
       "...           ...  ...       ...        ...       ...            ...   \n",
       "9133    Minnesota  002       029         00       003              0   \n",
       "9134    Minnesota  003       029         00       003            941   \n",
       "9135    Minnesota  004       029         00       003              0   \n",
       "9136    Minnesota  001       001         30       003              0   \n",
       "9137    Minnesota  096       096         96       096         105997   \n",
       "\n",
       "     FIRMPDEMP_2020  \n",
       "0               334  \n",
       "1                 0  \n",
       "2               801  \n",
       "3             37057  \n",
       "4              7751  \n",
       "...             ...  \n",
       "9133              0  \n",
       "9134           1128  \n",
       "9135           1877  \n",
       "9136           3025  \n",
       "9137         105316  \n",
       "\n",
       "[9138 rows x 7 columns]"
      ]
     },
     "execution_count": 202,
     "metadata": {},
     "output_type": "execute_result"
    }
   ],
   "source": [
    "statemerge"
   ]
  },
  {
   "cell_type": "code",
   "execution_count": 203,
   "id": "eea7536b",
   "metadata": {},
   "outputs": [],
   "source": [
    "pd.options.mode.chained_assignment = None"
   ]
  },
  {
   "cell_type": "code",
   "execution_count": 204,
   "id": "63d5319c",
   "metadata": {},
   "outputs": [],
   "source": [
    "statemerge['FIRMPDEMP_2020'] = pd.to_numeric(statemerge['FIRMPDEMP_2020'])"
   ]
  },
  {
   "cell_type": "code",
   "execution_count": 205,
   "id": "e470821a",
   "metadata": {},
   "outputs": [],
   "source": [
    "allownedbus = statemerge.loc[(statemerge['SEX'] == '001') & (statemerge['ETH_GROUP'] == '001') & (statemerge['RACE_GROUP'] == '00') & (statemerge['VET_GROUP'] == '001')]"
   ]
  },
  {
   "cell_type": "code",
   "execution_count": 206,
   "id": "b08960f7",
   "metadata": {},
   "outputs": [],
   "source": [
    "womenownedbus = statemerge.loc[(statemerge['SEX'] == '002') & (statemerge['ETH_GROUP'] == '001') & (statemerge['RACE_GROUP'] == '00') & (statemerge['VET_GROUP'] == '001')]"
   ]
  },
  {
   "cell_type": "code",
   "execution_count": 207,
   "id": "e0690076",
   "metadata": {},
   "outputs": [],
   "source": [
    "womenownedbus = womenownedbus.join(allownedbus.set_index('NAME'), on = 'NAME', lsuffix='_left', rsuffix='_right')"
   ]
  },
  {
   "cell_type": "code",
   "execution_count": 208,
   "id": "928b00de",
   "metadata": {},
   "outputs": [],
   "source": [
    "womenownedbus['PERCENTAGE_WOMEN_OWNED'] = womenownedbus['FIRMPDEMP_2020_left']/womenownedbus['FIRMPDEMP_2020_right']"
   ]
  },
  {
   "cell_type": "code",
   "execution_count": 209,
   "id": "62f37ed4",
   "metadata": {},
   "outputs": [],
   "source": [
    "topwomenownedbus = womenownedbus.nlargest(n = 5, columns = 'PERCENTAGE_WOMEN_OWNED')"
   ]
  },
  {
   "cell_type": "code",
   "execution_count": 210,
   "id": "b726ba3c",
   "metadata": {},
   "outputs": [
    {
     "data": {
      "text/plain": [
       "<matplotlib.legend.Legend at 0x1607997fa00>"
      ]
     },
     "execution_count": 210,
     "metadata": {},
     "output_type": "execute_result"
    },
    {
     "data": {
      "image/png": "[encoded data removed]",
      "text/plain": [
       "<Figure size 432x288 with 1 Axes>"
      ]
     },
     "metadata": {
      "needs_background": "light"
     },
     "output_type": "display_data"
    }
   ],
   "source": [
    "topwomenownedbus.plot(x = 'NAME', y = 'PERCENTAGE_WOMEN_OWNED', kind = 'bar', title = 'Top 5 States with Highest Percentage of Women-Owned Businesses', color = 'blue').legend(['%'])"
   ]
  },
  {
   "cell_type": "code",
   "execution_count": 211,
   "id": "e996e5f0",
   "metadata": {},
   "outputs": [],
   "source": [
    "botwomenownedbus = womenownedbus.nsmallest(n = 5, columns = 'PERCENTAGE_WOMEN_OWNED')"
   ]
  },
  {
   "cell_type": "code",
   "execution_count": 212,
   "id": "c9f4faf4",
   "metadata": {},
   "outputs": [],
   "source": [
    "botwomenownedbus = botwomenownedbus.iloc[::-1]"
   ]
  },
  {
   "cell_type": "code",
   "execution_count": 213,
   "id": "428d128e",
   "metadata": {},
   "outputs": [
    {
     "data": {
      "text/html": [
       "<div>\n",
       "<style scoped>\n",
       "    .dataframe tbody tr th:only-of-type {\n",
       "        vertical-align: middle;\n",
       "    }\n",
       "\n",
       "    .dataframe tbody tr th {\n",
       "        vertical-align: top;\n",
       "    }\n",
       "\n",
       "    .dataframe thead th {\n",
       "        text-align: right;\n",
       "    }\n",
       "</style>\n",
       "<table border=\"1\" class=\"dataframe\">\n",
       "  <thead>\n",
       "    <tr style=\"text-align: right;\">\n",
       "      <th></th>\n",
       "      <th>NAME</th>\n",
       "      <th>SEX_left</th>\n",
       "      <th>ETH_GROUP_left</th>\n",
       "      <th>RACE_GROUP_left</th>\n",
       "      <th>VET_GROUP_left</th>\n",
       "      <th>FIRMPDEMP_2019_left</th>\n",
       "      <th>FIRMPDEMP_2020_left</th>\n",
       "      <th>SEX_right</th>\n",
       "      <th>ETH_GROUP_right</th>\n",
       "      <th>RACE_GROUP_right</th>\n",
       "      <th>VET_GROUP_right</th>\n",
       "      <th>FIRMPDEMP_2019_right</th>\n",
       "      <th>FIRMPDEMP_2020_right</th>\n",
       "      <th>PERCENTAGE_WOMEN_OWNED</th>\n",
       "    </tr>\n",
       "  </thead>\n",
       "  <tbody>\n",
       "    <tr>\n",
       "      <th>968</th>\n",
       "      <td>New Hampshire</td>\n",
       "      <td>002</td>\n",
       "      <td>001</td>\n",
       "      <td>00</td>\n",
       "      <td>001</td>\n",
       "      <td>5274</td>\n",
       "      <td>4742</td>\n",
       "      <td>001</td>\n",
       "      <td>001</td>\n",
       "      <td>00</td>\n",
       "      <td>001</td>\n",
       "      <td>28969</td>\n",
       "      <td>29727</td>\n",
       "      <td>0.159518</td>\n",
       "    </tr>\n",
       "    <tr>\n",
       "      <th>7640</th>\n",
       "      <td>Iowa</td>\n",
       "      <td>002</td>\n",
       "      <td>001</td>\n",
       "      <td>00</td>\n",
       "      <td>001</td>\n",
       "      <td>9759</td>\n",
       "      <td>9466</td>\n",
       "      <td>001</td>\n",
       "      <td>001</td>\n",
       "      <td>00</td>\n",
       "      <td>001</td>\n",
       "      <td>60610</td>\n",
       "      <td>59463</td>\n",
       "      <td>0.159191</td>\n",
       "    </tr>\n",
       "    <tr>\n",
       "      <th>6879</th>\n",
       "      <td>Idaho</td>\n",
       "      <td>002</td>\n",
       "      <td>001</td>\n",
       "      <td>00</td>\n",
       "      <td>001</td>\n",
       "      <td>6635</td>\n",
       "      <td>6202</td>\n",
       "      <td>001</td>\n",
       "      <td>001</td>\n",
       "      <td>00</td>\n",
       "      <td>001</td>\n",
       "      <td>39080</td>\n",
       "      <td>41098</td>\n",
       "      <td>0.150908</td>\n",
       "    </tr>\n",
       "    <tr>\n",
       "      <th>1877</th>\n",
       "      <td>North Dakota</td>\n",
       "      <td>002</td>\n",
       "      <td>001</td>\n",
       "      <td>00</td>\n",
       "      <td>001</td>\n",
       "      <td>0</td>\n",
       "      <td>2849</td>\n",
       "      <td>001</td>\n",
       "      <td>001</td>\n",
       "      <td>00</td>\n",
       "      <td>001</td>\n",
       "      <td>19844</td>\n",
       "      <td>20010</td>\n",
       "      <td>0.142379</td>\n",
       "    </tr>\n",
       "    <tr>\n",
       "      <th>3142</th>\n",
       "      <td>South Dakota</td>\n",
       "      <td>002</td>\n",
       "      <td>001</td>\n",
       "      <td>00</td>\n",
       "      <td>001</td>\n",
       "      <td>3194</td>\n",
       "      <td>2958</td>\n",
       "      <td>001</td>\n",
       "      <td>001</td>\n",
       "      <td>00</td>\n",
       "      <td>001</td>\n",
       "      <td>21641</td>\n",
       "      <td>21798</td>\n",
       "      <td>0.135701</td>\n",
       "    </tr>\n",
       "  </tbody>\n",
       "</table>\n",
       "</div>"
      ],
      "text/plain": [
       "               NAME SEX_left ETH_GROUP_left RACE_GROUP_left VET_GROUP_left  \\\n",
       "968   New Hampshire      002            001              00            001   \n",
       "7640           Iowa      002            001              00            001   \n",
       "6879          Idaho      002            001              00            001   \n",
       "1877   North Dakota      002            001              00            001   \n",
       "3142   South Dakota      002            001              00            001   \n",
       "\n",
       "     FIRMPDEMP_2019_left  FIRMPDEMP_2020_left SEX_right ETH_GROUP_right  \\\n",
       "968                 5274                 4742       001             001   \n",
       "7640                9759                 9466       001             001   \n",
       "6879                6635                 6202       001             001   \n",
       "1877                   0                 2849       001             001   \n",
       "3142                3194                 2958       001             001   \n",
       "\n",
       "     RACE_GROUP_right VET_GROUP_right FIRMPDEMP_2019_right  \\\n",
       "968                00             001                28969   \n",
       "7640               00             001                60610   \n",
       "6879               00             001                39080   \n",
       "1877               00             001                19844   \n",
       "3142               00             001                21641   \n",
       "\n",
       "      FIRMPDEMP_2020_right  PERCENTAGE_WOMEN_OWNED  \n",
       "968                  29727                0.159518  \n",
       "7640                 59463                0.159191  \n",
       "6879                 41098                0.150908  \n",
       "1877                 20010                0.142379  \n",
       "3142                 21798                0.135701  "
      ]
     },
     "execution_count": 213,
     "metadata": {},
     "output_type": "execute_result"
    }
   ],
   "source": [
    "botwomenownedbus"
   ]
  },
  {
   "cell_type": "code",
   "execution_count": 214,
   "id": "06ba592f",
   "metadata": {},
   "outputs": [
    {
     "data": {
      "text/plain": [
       "<matplotlib.legend.Legend at 0x16079bd2ad0>"
      ]
     },
     "execution_count": 214,
     "metadata": {},
     "output_type": "execute_result"
    },
    {
     "data": {
      "image/png": "[encoded data removed]",
      "text/plain": [
       "<Figure size 432x288 with 1 Axes>"
      ]
     },
     "metadata": {
      "needs_background": "light"
     },
     "output_type": "display_data"
    }
   ],
   "source": [
    "botwomenownedbus.plot(x = 'NAME', y = 'PERCENTAGE_WOMEN_OWNED', kind = 'bar', title = 'Bottom 5 States with Lowest Percentage of Women-Owned Businesses', color = 'blue').legend(['%'])"
   ]
  },
  {
   "cell_type": "code",
   "execution_count": 215,
   "id": "fef62af7",
   "metadata": {},
   "outputs": [],
   "source": [
    "whiteownedbus = statemerge.loc[(statemerge['SEX'] == '001') & (statemerge['ETH_GROUP'] == '001') & (statemerge['RACE_GROUP'] == '30') & (statemerge['VET_GROUP'] == '001')]"
   ]
  },
  {
   "cell_type": "code",
   "execution_count": 216,
   "id": "3cf807a8",
   "metadata": {},
   "outputs": [],
   "source": [
    "blackownedbus = statemerge.loc[(statemerge['SEX'] == '001') & (statemerge['ETH_GROUP'] == '001') & (statemerge['RACE_GROUP'] == '40') & (statemerge['VET_GROUP'] == '001')]"
   ]
  },
  {
   "cell_type": "code",
   "execution_count": 217,
   "id": "83a4940b",
   "metadata": {},
   "outputs": [],
   "source": [
    "nativeownedbus = statemerge.loc[(statemerge['SEX'] == '001') & (statemerge['ETH_GROUP'] == '001') & (statemerge['RACE_GROUP'] == '50') & (statemerge['VET_GROUP'] == '001')]"
   ]
  },
  {
   "cell_type": "code",
   "execution_count": 218,
   "id": "63d65c6b",
   "metadata": {},
   "outputs": [],
   "source": [
    "hawaiianownedbus = statemerge.loc[(statemerge['SEX'] == '001') & (statemerge['ETH_GROUP'] == '001') & (statemerge['RACE_GROUP'] == '70') & (statemerge['VET_GROUP'] == '001')]"
   ]
  },
  {
   "cell_type": "code",
   "execution_count": 223,
   "id": "1dbb7522",
   "metadata": {},
   "outputs": [],
   "source": [
    "whiteownedbus['FIRMPDEMP_2019'] = pd.to_numeric(whiteownedbus['FIRMPDEMP_2019'])\n",
    "whiteownedbus['FIRMPDEMP_2020'] = pd.to_numeric(whiteownedbus['FIRMPDEMP_2020'])"
   ]
  },
  {
   "cell_type": "code",
   "execution_count": 224,
   "id": "b8923f45",
   "metadata": {},
   "outputs": [],
   "source": [
    "blackownedbus['FIRMPDEMP_2019'] = pd.to_numeric(blackownedbus['FIRMPDEMP_2019'])\n",
    "blackownedbus['FIRMPDEMP_2020'] = pd.to_numeric(blackownedbus['FIRMPDEMP_2020'])"
   ]
  },
  {
   "cell_type": "code",
   "execution_count": 225,
   "id": "e0bebbf7",
   "metadata": {},
   "outputs": [],
   "source": [
    "nativeownedbus['FIRMPDEMP_2019'] = pd.to_numeric(nativeownedbus['FIRMPDEMP_2019'])\n",
    "nativeownedbus['FIRMPDEMP_2020'] = pd.to_numeric(nativeownedbus['FIRMPDEMP_2020'])"
   ]
  },
  {
   "cell_type": "code",
   "execution_count": 226,
   "id": "34c1f340",
   "metadata": {},
   "outputs": [],
   "source": [
    "hawaiianownedbus['FIRMPDEMP_2019'] = pd.to_numeric(hawaiianownedbus['FIRMPDEMP_2019'])\n",
    "hawaiianownedbus['FIRMPDEMP_2020'] = pd.to_numeric(hawaiianownedbus['FIRMPDEMP_2020'])"
   ]
  },
  {
   "cell_type": "code",
   "execution_count": 235,
   "id": "cc42ecc8",
   "metadata": {},
   "outputs": [],
   "source": [
    "whitetot2019 = whiteownedbus['FIRMPDEMP_2019'].sum()\n",
    "whitetot2020 = whiteownedbus['FIRMPDEMP_2020'].sum()"
   ]
  },
  {
   "cell_type": "code",
   "execution_count": 237,
   "id": "37a31aab",
   "metadata": {},
   "outputs": [],
   "source": [
    "blacktot2019 = blackownedbus['FIRMPDEMP_2019'].sum()\n",
    "blacktot2020 = blackownedbus['FIRMPDEMP_2020'].sum()"
   ]
  },
  {
   "cell_type": "code",
   "execution_count": 238,
   "id": "1c5a4e32",
   "metadata": {},
   "outputs": [],
   "source": [
    "nativetot2019 = nativeownedbus['FIRMPDEMP_2019'].sum()\n",
    "nativetot2020 = nativeownedbus['FIRMPDEMP_2020'].sum()"
   ]
  },
  {
   "cell_type": "code",
   "execution_count": 239,
   "id": "b8854cdf",
   "metadata": {},
   "outputs": [],
   "source": [
    "hawaiiantot2019 = hawaiianownedbus['FIRMPDEMP_2019'].sum()\n",
    "hawaiiantot2020 = hawaiianownedbus['FIRMPDEMP_2020'].sum()"
   ]
  },
  {
   "cell_type": "code",
   "execution_count": 240,
   "id": "0fe99cfb",
   "metadata": {},
   "outputs": [],
   "source": [
    "raceownedbus = pd.DataFrame({'RACE':['WHITE', 'BLACK', 'NATIVE', 'HAWAIIAN'], '2019':[whitetot2019, blacktot2019, nativetot2019, hawaiiantot2019], '2020': [whitetot2020, blacktot2020, nativetot2020, hawaiiantot2020]})"
   ]
  },
  {
   "cell_type": "code",
   "execution_count": 260,
   "id": "dde5ebd3",
   "metadata": {},
   "outputs": [],
   "source": [
    "raceownedbus['PERCENTAGE_DIFFERENCE'] = raceownedbus['2020']/raceownedbus['2019']"
   ]
  },
  {
   "cell_type": "code",
   "execution_count": 262,
   "id": "8decd558",
   "metadata": {},
   "outputs": [],
   "source": [
    "raceownedbus['PERCENTAGE_DIFFERENCE'] = (raceownedbus['PERCENTAGE_DIFFERENCE'] - 1.0) * 100"
   ]
  },
  {
   "cell_type": "code",
   "execution_count": 269,
   "id": "f5410543",
   "metadata": {},
   "outputs": [],
   "source": [
    "raceownedbus = raceownedbus.iloc[::-1]"
   ]
  },
  {
   "cell_type": "code",
   "execution_count": 271,
   "id": "4d850778",
   "metadata": {},
   "outputs": [
    {
     "data": {
      "text/html": [
       "<div>\n",
       "<style scoped>\n",
       "    .dataframe tbody tr th:only-of-type {\n",
       "        vertical-align: middle;\n",
       "    }\n",
       "\n",
       "    .dataframe tbody tr th {\n",
       "        vertical-align: top;\n",
       "    }\n",
       "\n",
       "    .dataframe thead th {\n",
       "        text-align: right;\n",
       "    }\n",
       "</style>\n",
       "<table border=\"1\" class=\"dataframe\">\n",
       "  <thead>\n",
       "    <tr style=\"text-align: right;\">\n",
       "      <th></th>\n",
       "      <th>RACE</th>\n",
       "      <th>2019</th>\n",
       "      <th>2020</th>\n",
       "      <th>PERCENTAGE_DIFFERENCE</th>\n",
       "    </tr>\n",
       "  </thead>\n",
       "  <tbody>\n",
       "    <tr>\n",
       "      <th>3</th>\n",
       "      <td>HAWAIIAN</td>\n",
       "      <td>4797</td>\n",
       "      <td>3701</td>\n",
       "      <td>-22.847613</td>\n",
       "    </tr>\n",
       "    <tr>\n",
       "      <th>2</th>\n",
       "      <td>NATIVE</td>\n",
       "      <td>21629</td>\n",
       "      <td>23725</td>\n",
       "      <td>9.690693</td>\n",
       "    </tr>\n",
       "    <tr>\n",
       "      <th>1</th>\n",
       "      <td>BLACK</td>\n",
       "      <td>121715</td>\n",
       "      <td>132882</td>\n",
       "      <td>9.174711</td>\n",
       "    </tr>\n",
       "    <tr>\n",
       "      <th>0</th>\n",
       "      <td>WHITE</td>\n",
       "      <td>4857926</td>\n",
       "      <td>4905495</td>\n",
       "      <td>0.979204</td>\n",
       "    </tr>\n",
       "  </tbody>\n",
       "</table>\n",
       "</div>"
      ],
      "text/plain": [
       "       RACE     2019     2020  PERCENTAGE_DIFFERENCE\n",
       "3  HAWAIIAN     4797     3701             -22.847613\n",
       "2    NATIVE    21629    23725               9.690693\n",
       "1     BLACK   121715   132882               9.174711\n",
       "0     WHITE  4857926  4905495               0.979204"
      ]
     },
     "execution_count": 271,
     "metadata": {},
     "output_type": "execute_result"
    }
   ],
   "source": [
    "raceownedbus"
   ]
  },
  {
   "cell_type": "code",
   "execution_count": 282,
   "id": "af6e1fee",
   "metadata": {},
   "outputs": [
    {
     "data": {
      "text/plain": [
       "<matplotlib.legend.Legend at 0x1607dc92c20>"
      ]
     },
     "execution_count": 282,
     "metadata": {},
     "output_type": "execute_result"
    },
    {
     "data": {
      "image/png": "[encoded data removed]",
      "text/plain": [
       "<Figure size 432x288 with 1 Axes>"
      ]
     },
     "metadata": {
      "needs_background": "light"
     },
     "output_type": "display_data"
    }
   ],
   "source": [
    "raceownedbus.plot(x = 'RACE', y = ['PERCENTAGE_DIFFERENCE'], kind = 'barh', title = 'Percentage Difference in Racial Makeup of Business Owners from 2019 to 2020', color = 'black', xticks = [-30, -20, -10, 0, 10, 20, 30], ylabel = 'Percentage Difference from 2019 to 2020').legend('%')"
   ]
  }
 ],
 "metadata": {
  "kernelspec": {
   "display_name": "Python 3.10.4 64-bit",
   "language": "python",
   "name": "python3"
  },
  "language_info": {
   "codemirror_mode": {
    "name": "ipython",
    "version": 3
   },
   "file_extension": ".py",
   "mimetype": "text/x-python",
   "name": "python",
   "nbconvert_exporter": "python",
   "pygments_lexer": "ipython3",
   "version": "3.10.4"
  },
  "vscode": {
   "interpreter": {
    "hash": "c569d5206afb8abdade57f51b7a8819ce143fbdcc94d19bbc35fd43f58a57833"
   }
  }
 },
 "nbformat": 4,
 "nbformat_minor": 5
}
