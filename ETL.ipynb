{
 "cells": [
  {
   "cell_type": "code",
   "execution_count": 150,
   "id": "6429d252",
   "metadata": {},
   "outputs": [],
   "source": [
    "import requests\n",
    "import pandas as pd\n",
    "import matplotlib.pyplot as plt"
   ]
  },
  {
   "cell_type": "code",
   "execution_count": 32,
   "id": "9431dcc7",
   "metadata": {},
   "outputs": [],
   "source": [
    "pd.options.mode.chained_assignment = None"
   ]
  },
  {
   "cell_type": "code",
   "execution_count": 2,
   "id": "ea795c28",
   "metadata": {},
   "outputs": [],
   "source": [
    "data2019 = requests.get('https://api.census.gov/data/2018/abscs?get=NAME,GEO_ID,NAICS2017_LABEL,SEX,ETH_GROUP,RACE_GROUP,VET_GROUP,FIRMPDEMP&for=state:*&NAICS2017=00&key=a4bcb4614372e8f229066cbce694ccdb6b558ef4').json()"
   ]
  },
  {
   "cell_type": "code",
   "execution_count": 3,
   "id": "1c1d4636",
   "metadata": {},
   "outputs": [],
   "source": [
    "data2020 = requests.get('https://api.census.gov/data/2019/abscs?get=NAME,GEO_ID,NAICS2017_LABEL,SEX,ETH_GROUP,RACE_GROUP,VET_GROUP,FIRMPDEMP&for=state:*&NAICS2017=00&key=a4bcb4614372e8f229066cbce694ccdb6b558ef4').json()"
   ]
  },
  {
   "cell_type": "code",
   "execution_count": 5,
   "id": "4b3d27c4",
   "metadata": {},
   "outputs": [],
   "source": [
    "companysummarystate2019 = pd.DataFrame (data2019[1:], columns= data2019[0])"
   ]
  },
  {
   "cell_type": "code",
   "execution_count": 6,
   "id": "1c743229",
   "metadata": {},
   "outputs": [],
   "source": [
    "companysummarystate2020 = pd.DataFrame(data2020[1:], columns = data2020[0])"
   ]
  },
  {
   "cell_type": "code",
   "execution_count": 7,
   "id": "84894aec",
   "metadata": {
    "scrolled": true
   },
   "outputs": [],
   "source": [
    "companysummarystate2019.drop(columns = ['GEO_ID','NAICS2017_LABEL','NAICS2017','state'], inplace=True)"
   ]
  },
  {
   "cell_type": "code",
   "execution_count": 8,
   "id": "aa843d5e",
   "metadata": {},
   "outputs": [],
   "source": [
    "companysummarystate2020.drop(columns = ['GEO_ID','NAICS2017_LABEL','NAICS2017','state'], inplace=True)"
   ]
  },
  {
   "cell_type": "code",
   "execution_count": 9,
   "id": "a2942caa",
   "metadata": {},
   "outputs": [
    {
     "data": {
      "text/html": [
       "<div>\n",
       "<style scoped>\n",
       "    .dataframe tbody tr th:only-of-type {\n",
       "        vertical-align: middle;\n",
       "    }\n",
       "\n",
       "    .dataframe tbody tr th {\n",
       "        vertical-align: top;\n",
       "    }\n",
       "\n",
       "    .dataframe thead th {\n",
       "        text-align: right;\n",
       "    }\n",
       "</style>\n",
       "<table border=\"1\" class=\"dataframe\">\n",
       "  <thead>\n",
       "    <tr style=\"text-align: right;\">\n",
       "      <th></th>\n",
       "      <th>NAME</th>\n",
       "      <th>SEX</th>\n",
       "      <th>ETH_GROUP</th>\n",
       "      <th>RACE_GROUP</th>\n",
       "      <th>VET_GROUP</th>\n",
       "      <th>FIRMPDEMP</th>\n",
       "    </tr>\n",
       "  </thead>\n",
       "  <tbody>\n",
       "    <tr>\n",
       "      <th>0</th>\n",
       "      <td>Mississippi</td>\n",
       "      <td>002</td>\n",
       "      <td>029</td>\n",
       "      <td>00</td>\n",
       "      <td>003</td>\n",
       "      <td>0</td>\n",
       "    </tr>\n",
       "    <tr>\n",
       "      <th>1</th>\n",
       "      <td>Mississippi</td>\n",
       "      <td>003</td>\n",
       "      <td>029</td>\n",
       "      <td>00</td>\n",
       "      <td>003</td>\n",
       "      <td>466</td>\n",
       "    </tr>\n",
       "    <tr>\n",
       "      <th>2</th>\n",
       "      <td>Mississippi</td>\n",
       "      <td>004</td>\n",
       "      <td>029</td>\n",
       "      <td>00</td>\n",
       "      <td>003</td>\n",
       "      <td>572</td>\n",
       "    </tr>\n",
       "    <tr>\n",
       "      <th>3</th>\n",
       "      <td>Mississippi</td>\n",
       "      <td>001</td>\n",
       "      <td>001</td>\n",
       "      <td>30</td>\n",
       "      <td>003</td>\n",
       "      <td>926</td>\n",
       "    </tr>\n",
       "    <tr>\n",
       "      <th>4</th>\n",
       "      <td>Mississippi</td>\n",
       "      <td>096</td>\n",
       "      <td>096</td>\n",
       "      <td>96</td>\n",
       "      <td>096</td>\n",
       "      <td>37489</td>\n",
       "    </tr>\n",
       "  </tbody>\n",
       "</table>\n",
       "</div>"
      ],
      "text/plain": [
       "          NAME  SEX ETH_GROUP RACE_GROUP VET_GROUP FIRMPDEMP\n",
       "0  Mississippi  002       029         00       003         0\n",
       "1  Mississippi  003       029         00       003       466\n",
       "2  Mississippi  004       029         00       003       572\n",
       "3  Mississippi  001       001         30       003       926\n",
       "4  Mississippi  096       096         96       096     37489"
      ]
     },
     "execution_count": 9,
     "metadata": {},
     "output_type": "execute_result"
    }
   ],
   "source": [
    "companysummarystate2019.head()"
   ]
  },
  {
   "cell_type": "code",
   "execution_count": 10,
   "id": "71f96708",
   "metadata": {},
   "outputs": [
    {
     "data": {
      "text/html": [
       "<div>\n",
       "<style scoped>\n",
       "    .dataframe tbody tr th:only-of-type {\n",
       "        vertical-align: middle;\n",
       "    }\n",
       "\n",
       "    .dataframe tbody tr th {\n",
       "        vertical-align: top;\n",
       "    }\n",
       "\n",
       "    .dataframe thead th {\n",
       "        text-align: right;\n",
       "    }\n",
       "</style>\n",
       "<table border=\"1\" class=\"dataframe\">\n",
       "  <thead>\n",
       "    <tr style=\"text-align: right;\">\n",
       "      <th></th>\n",
       "      <th>NAME</th>\n",
       "      <th>SEX</th>\n",
       "      <th>ETH_GROUP</th>\n",
       "      <th>RACE_GROUP</th>\n",
       "      <th>VET_GROUP</th>\n",
       "      <th>FIRMPDEMP</th>\n",
       "    </tr>\n",
       "  </thead>\n",
       "  <tbody>\n",
       "    <tr>\n",
       "      <th>0</th>\n",
       "      <td>Mississippi</td>\n",
       "      <td>001</td>\n",
       "      <td>028</td>\n",
       "      <td>00</td>\n",
       "      <td>001</td>\n",
       "      <td>93</td>\n",
       "    </tr>\n",
       "    <tr>\n",
       "      <th>1</th>\n",
       "      <td>Mississippi</td>\n",
       "      <td>003</td>\n",
       "      <td>028</td>\n",
       "      <td>00</td>\n",
       "      <td>001</td>\n",
       "      <td>0</td>\n",
       "    </tr>\n",
       "    <tr>\n",
       "      <th>2</th>\n",
       "      <td>Mississippi</td>\n",
       "      <td>002</td>\n",
       "      <td>029</td>\n",
       "      <td>50</td>\n",
       "      <td>001</td>\n",
       "      <td>0</td>\n",
       "    </tr>\n",
       "    <tr>\n",
       "      <th>3</th>\n",
       "      <td>Mississippi</td>\n",
       "      <td>003</td>\n",
       "      <td>029</td>\n",
       "      <td>50</td>\n",
       "      <td>001</td>\n",
       "      <td>51</td>\n",
       "    </tr>\n",
       "    <tr>\n",
       "      <th>4</th>\n",
       "      <td>Mississippi</td>\n",
       "      <td>001</td>\n",
       "      <td>001</td>\n",
       "      <td>60</td>\n",
       "      <td>001</td>\n",
       "      <td>2489</td>\n",
       "    </tr>\n",
       "  </tbody>\n",
       "</table>\n",
       "</div>"
      ],
      "text/plain": [
       "          NAME  SEX ETH_GROUP RACE_GROUP VET_GROUP FIRMPDEMP\n",
       "0  Mississippi  001       028         00       001        93\n",
       "1  Mississippi  003       028         00       001         0\n",
       "2  Mississippi  002       029         50       001         0\n",
       "3  Mississippi  003       029         50       001        51\n",
       "4  Mississippi  001       001         60       001      2489"
      ]
     },
     "execution_count": 10,
     "metadata": {},
     "output_type": "execute_result"
    }
   ],
   "source": [
    "companysummarystate2020.head()"
   ]
  },
  {
   "cell_type": "code",
   "execution_count": 11,
   "id": "5dbd6f60",
   "metadata": {},
   "outputs": [
    {
     "data": {
      "text/plain": [
       "False    9668\n",
       "Name: FIRMPDEMP, dtype: int64"
      ]
     },
     "execution_count": 11,
     "metadata": {},
     "output_type": "execute_result"
    }
   ],
   "source": [
    "companysummarystate2019.FIRMPDEMP.isna().value_counts()"
   ]
  },
  {
   "cell_type": "code",
   "execution_count": 12,
   "id": "f6dcf83e",
   "metadata": {},
   "outputs": [
    {
     "data": {
      "text/plain": [
       "False    9641\n",
       "Name: FIRMPDEMP, dtype: int64"
      ]
     },
     "execution_count": 12,
     "metadata": {},
     "output_type": "execute_result"
    }
   ],
   "source": [
    "companysummarystate2020.FIRMPDEMP.isna().value_counts()"
   ]
  },
  {
   "cell_type": "code",
   "execution_count": 13,
   "id": "f8d01748",
   "metadata": {},
   "outputs": [],
   "source": [
    "statemerge = companysummarystate2019.merge(companysummarystate2020, on=['NAME', 'SEX', 'ETH_GROUP', 'RACE_GROUP', 'VET_GROUP'], how='inner', suffixes = ('_2019', '_2020') )"
   ]
  },
  {
   "cell_type": "markdown",
   "id": "495b05c3",
   "metadata": {},
   "source": [
    "The totals for each column are 001, except Race_Group which is 00.\n",
    "\n",
    "Make sure that you filter for totals on all the other columns except for the ones you are looking at. (Ex: If you are looking for all male owned businesses, you filter for 003 on the sex column, 001 on eth group, vet group, and 00 on race group)"
   ]
  },
  {
   "cell_type": "code",
   "execution_count": 108,
   "id": "ba107547",
   "metadata": {
    "scrolled": false
   },
   "outputs": [],
   "source": [
    "statemerge['CHANGE'] = statemerge['FIRMPDEMP_2020'] - statemerge['FIRMPDEMP_2019']"
   ]
  },
  {
   "cell_type": "code",
   "execution_count": 182,
   "id": "1b181a20",
   "metadata": {},
   "outputs": [],
   "source": [
    "statemerge.loc[statemerge[\"SEX\"] == \"001\", \"SEX\"] = 'Total'\n",
    "statemerge.loc[statemerge[\"SEX\"] == \"002\", \"SEX\"] = 'Female'\n",
    "statemerge.loc[statemerge[\"SEX\"] == \"003\", \"SEX\"] = 'Male'\n",
    "statemerge.loc[statemerge[\"SEX\"] == \"004\", \"SEX\"] = 'Non-Binary'"
   ]
  },
  {
   "cell_type": "code",
   "execution_count": 183,
   "id": "98baae05",
   "metadata": {},
   "outputs": [
    {
     "data": {
      "text/html": [
       "<div>\n",
       "<style scoped>\n",
       "    .dataframe tbody tr th:only-of-type {\n",
       "        vertical-align: middle;\n",
       "    }\n",
       "\n",
       "    .dataframe tbody tr th {\n",
       "        vertical-align: top;\n",
       "    }\n",
       "\n",
       "    .dataframe thead th {\n",
       "        text-align: right;\n",
       "    }\n",
       "</style>\n",
       "<table border=\"1\" class=\"dataframe\">\n",
       "  <thead>\n",
       "    <tr style=\"text-align: right;\">\n",
       "      <th></th>\n",
       "      <th>NAME</th>\n",
       "      <th>SEX</th>\n",
       "      <th>ETH_GROUP</th>\n",
       "      <th>RACE_GROUP</th>\n",
       "      <th>VET_GROUP</th>\n",
       "      <th>FIRMPDEMP_2019</th>\n",
       "      <th>FIRMPDEMP_2020</th>\n",
       "      <th>CHANGE</th>\n",
       "    </tr>\n",
       "  </thead>\n",
       "  <tbody>\n",
       "    <tr>\n",
       "      <th>0</th>\n",
       "      <td>Mississippi</td>\n",
       "      <td>Male</td>\n",
       "      <td>029</td>\n",
       "      <td>00</td>\n",
       "      <td>003</td>\n",
       "      <td>466</td>\n",
       "      <td>334</td>\n",
       "      <td>-132</td>\n",
       "    </tr>\n",
       "    <tr>\n",
       "      <th>1</th>\n",
       "      <td>Mississippi</td>\n",
       "      <td>Non-Binary</td>\n",
       "      <td>029</td>\n",
       "      <td>00</td>\n",
       "      <td>003</td>\n",
       "      <td>572</td>\n",
       "      <td>0</td>\n",
       "      <td>-572</td>\n",
       "    </tr>\n",
       "    <tr>\n",
       "      <th>2</th>\n",
       "      <td>Mississippi</td>\n",
       "      <td>Total</td>\n",
       "      <td>001</td>\n",
       "      <td>30</td>\n",
       "      <td>003</td>\n",
       "      <td>926</td>\n",
       "      <td>801</td>\n",
       "      <td>-125</td>\n",
       "    </tr>\n",
       "    <tr>\n",
       "      <th>3</th>\n",
       "      <td>Mississippi</td>\n",
       "      <td>096</td>\n",
       "      <td>096</td>\n",
       "      <td>96</td>\n",
       "      <td>096</td>\n",
       "      <td>37489</td>\n",
       "      <td>37057</td>\n",
       "      <td>-432</td>\n",
       "    </tr>\n",
       "    <tr>\n",
       "      <th>4</th>\n",
       "      <td>Mississippi</td>\n",
       "      <td>Female</td>\n",
       "      <td>001</td>\n",
       "      <td>00</td>\n",
       "      <td>001</td>\n",
       "      <td>6659</td>\n",
       "      <td>7751</td>\n",
       "      <td>1092</td>\n",
       "    </tr>\n",
       "    <tr>\n",
       "      <th>...</th>\n",
       "      <td>...</td>\n",
       "      <td>...</td>\n",
       "      <td>...</td>\n",
       "      <td>...</td>\n",
       "      <td>...</td>\n",
       "      <td>...</td>\n",
       "      <td>...</td>\n",
       "      <td>...</td>\n",
       "    </tr>\n",
       "    <tr>\n",
       "      <th>9133</th>\n",
       "      <td>Texas</td>\n",
       "      <td>Non-Binary</td>\n",
       "      <td>001</td>\n",
       "      <td>30</td>\n",
       "      <td>004</td>\n",
       "      <td>52629</td>\n",
       "      <td>48048</td>\n",
       "      <td>-4581</td>\n",
       "    </tr>\n",
       "    <tr>\n",
       "      <th>9134</th>\n",
       "      <td>Texas</td>\n",
       "      <td>Total</td>\n",
       "      <td>020</td>\n",
       "      <td>30</td>\n",
       "      <td>004</td>\n",
       "      <td>49702</td>\n",
       "      <td>49558</td>\n",
       "      <td>-144</td>\n",
       "    </tr>\n",
       "    <tr>\n",
       "      <th>9135</th>\n",
       "      <td>Texas</td>\n",
       "      <td>Total</td>\n",
       "      <td>028</td>\n",
       "      <td>30</td>\n",
       "      <td>004</td>\n",
       "      <td>5861</td>\n",
       "      <td>5444</td>\n",
       "      <td>-417</td>\n",
       "    </tr>\n",
       "    <tr>\n",
       "      <th>9136</th>\n",
       "      <td>Texas</td>\n",
       "      <td>Total</td>\n",
       "      <td>029</td>\n",
       "      <td>30</td>\n",
       "      <td>004</td>\n",
       "      <td>253350</td>\n",
       "      <td>258006</td>\n",
       "      <td>4656</td>\n",
       "    </tr>\n",
       "    <tr>\n",
       "      <th>9137</th>\n",
       "      <td>Texas</td>\n",
       "      <td>Total</td>\n",
       "      <td>001</td>\n",
       "      <td>40</td>\n",
       "      <td>004</td>\n",
       "      <td>9008</td>\n",
       "      <td>8911</td>\n",
       "      <td>-97</td>\n",
       "    </tr>\n",
       "  </tbody>\n",
       "</table>\n",
       "<p>9138 rows × 8 columns</p>\n",
       "</div>"
      ],
      "text/plain": [
       "             NAME         SEX ETH_GROUP RACE_GROUP VET_GROUP  FIRMPDEMP_2019  \\\n",
       "0     Mississippi        Male       029         00       003             466   \n",
       "1     Mississippi  Non-Binary       029         00       003             572   \n",
       "2     Mississippi       Total       001         30       003             926   \n",
       "3     Mississippi         096       096         96       096           37489   \n",
       "4     Mississippi      Female       001         00       001            6659   \n",
       "...           ...         ...       ...        ...       ...             ...   \n",
       "9133        Texas  Non-Binary       001         30       004           52629   \n",
       "9134        Texas       Total       020         30       004           49702   \n",
       "9135        Texas       Total       028         30       004            5861   \n",
       "9136        Texas       Total       029         30       004          253350   \n",
       "9137        Texas       Total       001         40       004            9008   \n",
       "\n",
       "      FIRMPDEMP_2020  CHANGE  \n",
       "0                334    -132  \n",
       "1                  0    -572  \n",
       "2                801    -125  \n",
       "3              37057    -432  \n",
       "4               7751    1092  \n",
       "...              ...     ...  \n",
       "9133           48048   -4581  \n",
       "9134           49558    -144  \n",
       "9135            5444    -417  \n",
       "9136          258006    4656  \n",
       "9137            8911     -97  \n",
       "\n",
       "[9138 rows x 8 columns]"
      ]
     },
     "execution_count": 183,
     "metadata": {},
     "output_type": "execute_result"
    }
   ],
   "source": [
    "statemerge"
   ]
  },
  {
   "cell_type": "code",
   "execution_count": 184,
   "id": "b45180ad",
   "metadata": {},
   "outputs": [],
   "source": [
    "statemerge['FIRMPDEMP_2020'] = pd.to_numeric(statemerge['FIRMPDEMP_2020'])"
   ]
  },
  {
   "cell_type": "code",
   "execution_count": 185,
   "id": "26f4f4bb",
   "metadata": {},
   "outputs": [],
   "source": [
    "statemerge['FIRMPDEMP_2019'] = pd.to_numeric(statemerge['FIRMPDEMP_2019'])"
   ]
  },
  {
   "cell_type": "code",
   "execution_count": 199,
   "id": "2323d8f6",
   "metadata": {},
   "outputs": [],
   "source": [
    "bfilter = statemerge[(statemerge['RACE_GROUP'] == '90') & (statemerge['VET_GROUP'] == '001') & (statemerge['ETH_GROUP']== '001')]"
   ]
  },
  {
   "cell_type": "code",
   "execution_count": 200,
   "id": "fe48feed",
   "metadata": {},
   "outputs": [],
   "source": [
    "black = maleminorityfilter.groupby(\"SEX\").sum(\"FIRMPDEMP_2019\")"
   ]
  },
  {
   "cell_type": "code",
   "execution_count": 201,
   "id": "15e88ace",
   "metadata": {
    "scrolled": true
   },
   "outputs": [
    {
     "data": {
      "text/plain": [
       "<matplotlib.legend.Legend at 0x1be02f22460>"
      ]
     },
     "execution_count": 201,
     "metadata": {},
     "output_type": "execute_result"
    },
    {
     "data": {
      "image/png": "[encoded data removed]",
      "text/plain": [
       "<Figure size 1080x432 with 1 Axes>"
      ]
     },
     "metadata": {
      "needs_background": "light"
     },
     "output_type": "display_data"
    }
   ],
   "source": [
    "ax = black.plot(title = 'Number of Black Owned Businesses by Sex in 2019 and 2020', ylabel = 'Number of Businesses', y= ['FIRMPDEMP_2019', 'FIRMPDEMP_2020'], kind ='bar', use_index =True, figsize=(15, 6))\n",
    "ax.legend([\"2019\", \"2020\"])"
   ]
  },
  {
   "cell_type": "code",
   "execution_count": 194,
   "id": "8ccdc4cf",
   "metadata": {},
   "outputs": [],
   "source": [
    "bfilter = statemerge[(statemerge['SEX'] == 'Total') & (statemerge['RACE_GROUP'] == '90') & (statemerge['VET_GROUP'] == '001') & (statemerge['ETH_GROUP']== '001')]"
   ]
  },
  {
   "cell_type": "code",
   "execution_count": 195,
   "id": "01b9cbe7",
   "metadata": {},
   "outputs": [],
   "source": [
    "bbusinesslost = bfilter.groupby('NAME').sum('CHANGE').nsmallest(7, 'CHANGE')"
   ]
  },
  {
   "cell_type": "code",
   "execution_count": 196,
   "id": "f0efa417",
   "metadata": {},
   "outputs": [
    {
     "data": {
      "text/plain": [
       "Text(0.5, 1.0, 'States That Lost the Most Black Owned Businesses Between 2019 & 2020')"
      ]
     },
     "execution_count": 196,
     "metadata": {},
     "output_type": "execute_result"
    },
    {
     "data": {
      "image/png": "[encoded data removed]",
      "text/plain": [
       "<Figure size 1080x576 with 1 Axes>"
      ]
     },
     "metadata": {
      "needs_background": "light"
     },
     "output_type": "display_data"
    }
   ],
   "source": [
    "fig, ax = plt.subplots()\n",
    "bbusinesslost.plot(kind='barh', ax=ax, y= 'CHANGE', figsize = (15,8))\n",
    "ax.set_ylabel('STATES')\n",
    "ax.set_xlabel('Business Lost Between 2019 and 2020')\n",
    "ax.set_title('States That Lost the Most Black Owned Businesses Between 2019 & 2020')\n",
    "#ax = df.plot(kind='bar') # \"same\" as above"
   ]
  },
  {
   "cell_type": "code",
   "execution_count": 191,
   "id": "51b69363",
   "metadata": {},
   "outputs": [],
   "source": [
    "bbusinessgained = bfilter.groupby('NAME').sum('CHANGE').nlargest(7, 'CHANGE')"
   ]
  },
  {
   "cell_type": "code",
   "execution_count": 192,
   "id": "092290da",
   "metadata": {},
   "outputs": [
    {
     "ename": "IndexError",
     "evalue": "index 0 is out of bounds for axis 0 with size 0",
     "output_type": "error",
     "traceback": [
      "\u001b[1;31m---------------------------------------------------------------------------\u001b[0m",
      "\u001b[1;31mIndexError\u001b[0m                                Traceback (most recent call last)",
      "\u001b[1;32m~\\AppData\\Local\\Temp/ipykernel_3644/3643430653.py\u001b[0m in \u001b[0;36m<module>\u001b[1;34m\u001b[0m\n\u001b[0;32m      1\u001b[0m \u001b[0mfig\u001b[0m\u001b[1;33m,\u001b[0m \u001b[0max\u001b[0m \u001b[1;33m=\u001b[0m \u001b[0mplt\u001b[0m\u001b[1;33m.\u001b[0m\u001b[0msubplots\u001b[0m\u001b[1;33m(\u001b[0m\u001b[1;33m)\u001b[0m\u001b[1;33m\u001b[0m\u001b[1;33m\u001b[0m\u001b[0m\n\u001b[1;32m----> 2\u001b[1;33m \u001b[0mbbusinessgained\u001b[0m\u001b[1;33m.\u001b[0m\u001b[0mplot\u001b[0m\u001b[1;33m(\u001b[0m\u001b[0mkind\u001b[0m\u001b[1;33m=\u001b[0m\u001b[1;34m'barh'\u001b[0m\u001b[1;33m,\u001b[0m \u001b[0max\u001b[0m\u001b[1;33m=\u001b[0m\u001b[0max\u001b[0m\u001b[1;33m,\u001b[0m \u001b[0my\u001b[0m\u001b[1;33m=\u001b[0m \u001b[1;34m'CHANGE'\u001b[0m\u001b[1;33m,\u001b[0m \u001b[0mfigsize\u001b[0m \u001b[1;33m=\u001b[0m \u001b[1;33m(\u001b[0m\u001b[1;36m15\u001b[0m\u001b[1;33m,\u001b[0m\u001b[1;36m8\u001b[0m\u001b[1;33m)\u001b[0m\u001b[1;33m)\u001b[0m\u001b[1;33m\u001b[0m\u001b[1;33m\u001b[0m\u001b[0m\n\u001b[0m\u001b[0;32m      3\u001b[0m \u001b[0max\u001b[0m\u001b[1;33m.\u001b[0m\u001b[0mset_ylabel\u001b[0m\u001b[1;33m(\u001b[0m\u001b[1;34m'STATES'\u001b[0m\u001b[1;33m)\u001b[0m\u001b[1;33m\u001b[0m\u001b[1;33m\u001b[0m\u001b[0m\n\u001b[0;32m      4\u001b[0m \u001b[0max\u001b[0m\u001b[1;33m.\u001b[0m\u001b[0mset_xlabel\u001b[0m\u001b[1;33m(\u001b[0m\u001b[1;34m'Business Gained Between 2019 and 2020'\u001b[0m\u001b[1;33m)\u001b[0m\u001b[1;33m\u001b[0m\u001b[1;33m\u001b[0m\u001b[0m\n\u001b[0;32m      5\u001b[0m \u001b[0max\u001b[0m\u001b[1;33m.\u001b[0m\u001b[0mset_title\u001b[0m\u001b[1;33m(\u001b[0m\u001b[1;34m'States That Gained the Most Black Owned Businesses Between 2019 & 2020'\u001b[0m\u001b[1;33m)\u001b[0m\u001b[1;33m\u001b[0m\u001b[1;33m\u001b[0m\u001b[0m\n",
      "\u001b[1;32m~\\anaconda3\\lib\\site-packages\\pandas\\plotting\\_core.py\u001b[0m in \u001b[0;36m__call__\u001b[1;34m(self, *args, **kwargs)\u001b[0m\n\u001b[0;32m    970\u001b[0m                     \u001b[0mdata\u001b[0m\u001b[1;33m.\u001b[0m\u001b[0mcolumns\u001b[0m \u001b[1;33m=\u001b[0m \u001b[0mlabel_name\u001b[0m\u001b[1;33m\u001b[0m\u001b[1;33m\u001b[0m\u001b[0m\n\u001b[0;32m    971\u001b[0m \u001b[1;33m\u001b[0m\u001b[0m\n\u001b[1;32m--> 972\u001b[1;33m         \u001b[1;32mreturn\u001b[0m \u001b[0mplot_backend\u001b[0m\u001b[1;33m.\u001b[0m\u001b[0mplot\u001b[0m\u001b[1;33m(\u001b[0m\u001b[0mdata\u001b[0m\u001b[1;33m,\u001b[0m \u001b[0mkind\u001b[0m\u001b[1;33m=\u001b[0m\u001b[0mkind\u001b[0m\u001b[1;33m,\u001b[0m \u001b[1;33m**\u001b[0m\u001b[0mkwargs\u001b[0m\u001b[1;33m)\u001b[0m\u001b[1;33m\u001b[0m\u001b[1;33m\u001b[0m\u001b[0m\n\u001b[0m\u001b[0;32m    973\u001b[0m \u001b[1;33m\u001b[0m\u001b[0m\n\u001b[0;32m    974\u001b[0m     \u001b[0m__call__\u001b[0m\u001b[1;33m.\u001b[0m\u001b[0m__doc__\u001b[0m \u001b[1;33m=\u001b[0m \u001b[0m__doc__\u001b[0m\u001b[1;33m\u001b[0m\u001b[1;33m\u001b[0m\u001b[0m\n",
      "\u001b[1;32m~\\anaconda3\\lib\\site-packages\\pandas\\plotting\\_matplotlib\\__init__.py\u001b[0m in \u001b[0;36mplot\u001b[1;34m(data, kind, **kwargs)\u001b[0m\n\u001b[0;32m     69\u001b[0m             \u001b[0mkwargs\u001b[0m\u001b[1;33m[\u001b[0m\u001b[1;34m\"ax\"\u001b[0m\u001b[1;33m]\u001b[0m \u001b[1;33m=\u001b[0m \u001b[0mgetattr\u001b[0m\u001b[1;33m(\u001b[0m\u001b[0max\u001b[0m\u001b[1;33m,\u001b[0m \u001b[1;34m\"left_ax\"\u001b[0m\u001b[1;33m,\u001b[0m \u001b[0max\u001b[0m\u001b[1;33m)\u001b[0m\u001b[1;33m\u001b[0m\u001b[1;33m\u001b[0m\u001b[0m\n\u001b[0;32m     70\u001b[0m     \u001b[0mplot_obj\u001b[0m \u001b[1;33m=\u001b[0m \u001b[0mPLOT_CLASSES\u001b[0m\u001b[1;33m[\u001b[0m\u001b[0mkind\u001b[0m\u001b[1;33m]\u001b[0m\u001b[1;33m(\u001b[0m\u001b[0mdata\u001b[0m\u001b[1;33m,\u001b[0m \u001b[1;33m**\u001b[0m\u001b[0mkwargs\u001b[0m\u001b[1;33m)\u001b[0m\u001b[1;33m\u001b[0m\u001b[1;33m\u001b[0m\u001b[0m\n\u001b[1;32m---> 71\u001b[1;33m     \u001b[0mplot_obj\u001b[0m\u001b[1;33m.\u001b[0m\u001b[0mgenerate\u001b[0m\u001b[1;33m(\u001b[0m\u001b[1;33m)\u001b[0m\u001b[1;33m\u001b[0m\u001b[1;33m\u001b[0m\u001b[0m\n\u001b[0m\u001b[0;32m     72\u001b[0m     \u001b[0mplot_obj\u001b[0m\u001b[1;33m.\u001b[0m\u001b[0mdraw\u001b[0m\u001b[1;33m(\u001b[0m\u001b[1;33m)\u001b[0m\u001b[1;33m\u001b[0m\u001b[1;33m\u001b[0m\u001b[0m\n\u001b[0;32m     73\u001b[0m     \u001b[1;32mreturn\u001b[0m \u001b[0mplot_obj\u001b[0m\u001b[1;33m.\u001b[0m\u001b[0mresult\u001b[0m\u001b[1;33m\u001b[0m\u001b[1;33m\u001b[0m\u001b[0m\n",
      "\u001b[1;32m~\\anaconda3\\lib\\site-packages\\pandas\\plotting\\_matplotlib\\core.py\u001b[0m in \u001b[0;36mgenerate\u001b[1;34m(self)\u001b[0m\n\u001b[0;32m    293\u001b[0m         \u001b[1;32mfor\u001b[0m \u001b[0max\u001b[0m \u001b[1;32min\u001b[0m \u001b[0mself\u001b[0m\u001b[1;33m.\u001b[0m\u001b[0maxes\u001b[0m\u001b[1;33m:\u001b[0m\u001b[1;33m\u001b[0m\u001b[1;33m\u001b[0m\u001b[0m\n\u001b[0;32m    294\u001b[0m             \u001b[0mself\u001b[0m\u001b[1;33m.\u001b[0m\u001b[0m_post_plot_logic_common\u001b[0m\u001b[1;33m(\u001b[0m\u001b[0max\u001b[0m\u001b[1;33m,\u001b[0m \u001b[0mself\u001b[0m\u001b[1;33m.\u001b[0m\u001b[0mdata\u001b[0m\u001b[1;33m)\u001b[0m\u001b[1;33m\u001b[0m\u001b[1;33m\u001b[0m\u001b[0m\n\u001b[1;32m--> 295\u001b[1;33m             \u001b[0mself\u001b[0m\u001b[1;33m.\u001b[0m\u001b[0m_post_plot_logic\u001b[0m\u001b[1;33m(\u001b[0m\u001b[0max\u001b[0m\u001b[1;33m,\u001b[0m \u001b[0mself\u001b[0m\u001b[1;33m.\u001b[0m\u001b[0mdata\u001b[0m\u001b[1;33m)\u001b[0m\u001b[1;33m\u001b[0m\u001b[1;33m\u001b[0m\u001b[0m\n\u001b[0m\u001b[0;32m    296\u001b[0m \u001b[1;33m\u001b[0m\u001b[0m\n\u001b[0;32m    297\u001b[0m     \u001b[1;32mdef\u001b[0m \u001b[0m_args_adjust\u001b[0m\u001b[1;33m(\u001b[0m\u001b[0mself\u001b[0m\u001b[1;33m)\u001b[0m\u001b[1;33m:\u001b[0m\u001b[1;33m\u001b[0m\u001b[1;33m\u001b[0m\u001b[0m\n",
      "\u001b[1;32m~\\anaconda3\\lib\\site-packages\\pandas\\plotting\\_matplotlib\\core.py\u001b[0m in \u001b[0;36m_post_plot_logic\u001b[1;34m(self, ax, data)\u001b[0m\n\u001b[0;32m   1526\u001b[0m         \u001b[0mname\u001b[0m \u001b[1;33m=\u001b[0m \u001b[0mself\u001b[0m\u001b[1;33m.\u001b[0m\u001b[0m_get_index_name\u001b[0m\u001b[1;33m(\u001b[0m\u001b[1;33m)\u001b[0m\u001b[1;33m\u001b[0m\u001b[1;33m\u001b[0m\u001b[0m\n\u001b[0;32m   1527\u001b[0m \u001b[1;33m\u001b[0m\u001b[0m\n\u001b[1;32m-> 1528\u001b[1;33m         \u001b[0ms_edge\u001b[0m \u001b[1;33m=\u001b[0m \u001b[0mself\u001b[0m\u001b[1;33m.\u001b[0m\u001b[0max_pos\u001b[0m\u001b[1;33m[\u001b[0m\u001b[1;36m0\u001b[0m\u001b[1;33m]\u001b[0m \u001b[1;33m-\u001b[0m \u001b[1;36m0.25\u001b[0m \u001b[1;33m+\u001b[0m \u001b[0mself\u001b[0m\u001b[1;33m.\u001b[0m\u001b[0mlim_offset\u001b[0m\u001b[1;33m\u001b[0m\u001b[1;33m\u001b[0m\u001b[0m\n\u001b[0m\u001b[0;32m   1529\u001b[0m         \u001b[0me_edge\u001b[0m \u001b[1;33m=\u001b[0m \u001b[0mself\u001b[0m\u001b[1;33m.\u001b[0m\u001b[0max_pos\u001b[0m\u001b[1;33m[\u001b[0m\u001b[1;33m-\u001b[0m\u001b[1;36m1\u001b[0m\u001b[1;33m]\u001b[0m \u001b[1;33m+\u001b[0m \u001b[1;36m0.25\u001b[0m \u001b[1;33m+\u001b[0m \u001b[0mself\u001b[0m\u001b[1;33m.\u001b[0m\u001b[0mbar_width\u001b[0m \u001b[1;33m+\u001b[0m \u001b[0mself\u001b[0m\u001b[1;33m.\u001b[0m\u001b[0mlim_offset\u001b[0m\u001b[1;33m\u001b[0m\u001b[1;33m\u001b[0m\u001b[0m\n\u001b[0;32m   1530\u001b[0m \u001b[1;33m\u001b[0m\u001b[0m\n",
      "\u001b[1;31mIndexError\u001b[0m: index 0 is out of bounds for axis 0 with size 0"
     ]
    },
    {
     "data": {
      "image/png": "[encoded data removed]",
      "text/plain": [
       "<Figure size 1080x576 with 1 Axes>"
      ]
     },
     "metadata": {
      "needs_background": "light"
     },
     "output_type": "display_data"
    }
   ],
   "source": [
    "fig, ax = plt.subplots()\n",
    "bbusinessgained.plot(kind='barh', ax=ax, y= 'CHANGE', figsize = (15,8))\n",
    "ax.set_ylabel('STATES')\n",
    "ax.set_xlabel('Business Gained Between 2019 and 2020')\n",
    "ax.set_title('States That Gained the Most Black Owned Businesses Between 2019 & 2020')\n",
    "#ax = df.plot(kind='bar') # \"same\" as above"
   ]
  },
  {
   "cell_type": "code",
   "execution_count": 193,
   "id": "14204284",
   "metadata": {},
   "outputs": [],
   "source": [
    "sexfilter = statemerge[(statemerge['SEX'] != '004') & (statemerge['SEX'] != '001') & (statemerge['RACE_GROUP'] == '00') & (statemerge['VET_GROUP'] == '001') & (statemerge['ETH_GROUP']== '001')]"
   ]
  },
  {
   "cell_type": "code",
   "execution_count": 158,
   "id": "626aa671",
   "metadata": {},
   "outputs": [
    {
     "data": {
      "text/html": [
       "<div>\n",
       "<style scoped>\n",
       "    .dataframe tbody tr th:only-of-type {\n",
       "        vertical-align: middle;\n",
       "    }\n",
       "\n",
       "    .dataframe tbody tr th {\n",
       "        vertical-align: top;\n",
       "    }\n",
       "\n",
       "    .dataframe thead th {\n",
       "        text-align: right;\n",
       "    }\n",
       "</style>\n",
       "<table border=\"1\" class=\"dataframe\">\n",
       "  <thead>\n",
       "    <tr style=\"text-align: right;\">\n",
       "      <th></th>\n",
       "      <th>NAME</th>\n",
       "      <th>SEX</th>\n",
       "      <th>ETH_GROUP</th>\n",
       "      <th>RACE_GROUP</th>\n",
       "      <th>VET_GROUP</th>\n",
       "      <th>FIRMPDEMP_2019</th>\n",
       "      <th>FIRMPDEMP_2020</th>\n",
       "      <th>CHANGE</th>\n",
       "    </tr>\n",
       "  </thead>\n",
       "  <tbody>\n",
       "    <tr>\n",
       "      <th>4</th>\n",
       "      <td>Mississippi</td>\n",
       "      <td>002</td>\n",
       "      <td>001</td>\n",
       "      <td>00</td>\n",
       "      <td>001</td>\n",
       "      <td>6659</td>\n",
       "      <td>7751</td>\n",
       "      <td>1092</td>\n",
       "    </tr>\n",
       "    <tr>\n",
       "      <th>5</th>\n",
       "      <td>Mississippi</td>\n",
       "      <td>003</td>\n",
       "      <td>001</td>\n",
       "      <td>00</td>\n",
       "      <td>001</td>\n",
       "      <td>25943</td>\n",
       "      <td>24533</td>\n",
       "      <td>-1410</td>\n",
       "    </tr>\n",
       "    <tr>\n",
       "      <th>290</th>\n",
       "      <td>Missouri</td>\n",
       "      <td>002</td>\n",
       "      <td>001</td>\n",
       "      <td>00</td>\n",
       "      <td>001</td>\n",
       "      <td>20311</td>\n",
       "      <td>23913</td>\n",
       "      <td>3602</td>\n",
       "    </tr>\n",
       "    <tr>\n",
       "      <th>306</th>\n",
       "      <td>Missouri</td>\n",
       "      <td>003</td>\n",
       "      <td>001</td>\n",
       "      <td>00</td>\n",
       "      <td>001</td>\n",
       "      <td>59319</td>\n",
       "      <td>58367</td>\n",
       "      <td>-952</td>\n",
       "    </tr>\n",
       "    <tr>\n",
       "      <th>390</th>\n",
       "      <td>Montana</td>\n",
       "      <td>002</td>\n",
       "      <td>001</td>\n",
       "      <td>00</td>\n",
       "      <td>001</td>\n",
       "      <td>5584</td>\n",
       "      <td>6079</td>\n",
       "      <td>495</td>\n",
       "    </tr>\n",
       "    <tr>\n",
       "      <th>...</th>\n",
       "      <td>...</td>\n",
       "      <td>...</td>\n",
       "      <td>...</td>\n",
       "      <td>...</td>\n",
       "      <td>...</td>\n",
       "      <td>...</td>\n",
       "      <td>...</td>\n",
       "      <td>...</td>\n",
       "    </tr>\n",
       "    <tr>\n",
       "      <th>8230</th>\n",
       "      <td>Iowa</td>\n",
       "      <td>003</td>\n",
       "      <td>001</td>\n",
       "      <td>00</td>\n",
       "      <td>001</td>\n",
       "      <td>34277</td>\n",
       "      <td>33644</td>\n",
       "      <td>-633</td>\n",
       "    </tr>\n",
       "    <tr>\n",
       "      <th>8379</th>\n",
       "      <td>Maryland</td>\n",
       "      <td>002</td>\n",
       "      <td>001</td>\n",
       "      <td>00</td>\n",
       "      <td>001</td>\n",
       "      <td>22668</td>\n",
       "      <td>23583</td>\n",
       "      <td>915</td>\n",
       "    </tr>\n",
       "    <tr>\n",
       "      <th>8529</th>\n",
       "      <td>Maryland</td>\n",
       "      <td>003</td>\n",
       "      <td>001</td>\n",
       "      <td>00</td>\n",
       "      <td>001</td>\n",
       "      <td>63860</td>\n",
       "      <td>62230</td>\n",
       "      <td>-1630</td>\n",
       "    </tr>\n",
       "    <tr>\n",
       "      <th>8842</th>\n",
       "      <td>Texas</td>\n",
       "      <td>002</td>\n",
       "      <td>001</td>\n",
       "      <td>00</td>\n",
       "      <td>001</td>\n",
       "      <td>84697</td>\n",
       "      <td>94432</td>\n",
       "      <td>9735</td>\n",
       "    </tr>\n",
       "    <tr>\n",
       "      <th>8887</th>\n",
       "      <td>Texas</td>\n",
       "      <td>003</td>\n",
       "      <td>001</td>\n",
       "      <td>00</td>\n",
       "      <td>001</td>\n",
       "      <td>249944</td>\n",
       "      <td>254733</td>\n",
       "      <td>4789</td>\n",
       "    </tr>\n",
       "  </tbody>\n",
       "</table>\n",
       "<p>102 rows × 8 columns</p>\n",
       "</div>"
      ],
      "text/plain": [
       "             NAME  SEX ETH_GROUP RACE_GROUP VET_GROUP  FIRMPDEMP_2019  \\\n",
       "4     Mississippi  002       001         00       001            6659   \n",
       "5     Mississippi  003       001         00       001           25943   \n",
       "290      Missouri  002       001         00       001           20311   \n",
       "306      Missouri  003       001         00       001           59319   \n",
       "390       Montana  002       001         00       001            5584   \n",
       "...           ...  ...       ...        ...       ...             ...   \n",
       "8230         Iowa  003       001         00       001           34277   \n",
       "8379     Maryland  002       001         00       001           22668   \n",
       "8529     Maryland  003       001         00       001           63860   \n",
       "8842        Texas  002       001         00       001           84697   \n",
       "8887        Texas  003       001         00       001          249944   \n",
       "\n",
       "      FIRMPDEMP_2020  CHANGE  \n",
       "4               7751    1092  \n",
       "5              24533   -1410  \n",
       "290            23913    3602  \n",
       "306            58367    -952  \n",
       "390             6079     495  \n",
       "...              ...     ...  \n",
       "8230           33644    -633  \n",
       "8379           23583     915  \n",
       "8529           62230   -1630  \n",
       "8842           94432    9735  \n",
       "8887          254733    4789  \n",
       "\n",
       "[102 rows x 8 columns]"
      ]
     },
     "execution_count": 158,
     "metadata": {},
     "output_type": "execute_result"
    }
   ],
   "source": [
    "sexfilter"
   ]
  },
  {
   "cell_type": "code",
   "execution_count": 161,
   "id": "2f4552f8",
   "metadata": {},
   "outputs": [],
   "source": [
    "mf = sexfilter.groupby('SEX').sum('FIRMPDEMP_2019')"
   ]
  },
  {
   "cell_type": "code",
   "execution_count": 173,
   "id": "77374607",
   "metadata": {},
   "outputs": [
    {
     "data": {
      "text/plain": [
       "<matplotlib.legend.Legend at 0x1be014c6070>"
      ]
     },
     "execution_count": 173,
     "metadata": {},
     "output_type": "execute_result"
    },
    {
     "data": {
      "image/png": "[encoded data removed]",
      "text/plain": [
       "<Figure size 720x720 with 1 Axes>"
      ]
     },
     "metadata": {},
     "output_type": "display_data"
    }
   ],
   "source": [
    "mf.plot.pie(title = 'Female vs Male owned businesses in 2019',y='FIRMPDEMP_2019', autopct='%1.0f%%', colors = ['pink', 'grey'], ylabel = '',figsize=(10,10)).legend(['FEMALE', 'MALE'])"
   ]
  },
  {
   "cell_type": "code",
   "execution_count": 175,
   "id": "3841d6aa",
   "metadata": {},
   "outputs": [
    {
     "data": {
      "text/plain": [
       "<matplotlib.legend.Legend at 0x1be7ed61850>"
      ]
     },
     "execution_count": 175,
     "metadata": {},
     "output_type": "execute_result"
    },
    {
     "data": {
      "image/png": "[encoded data removed]",
      "text/plain": [
       "<Figure size 720x720 with 1 Axes>"
      ]
     },
     "metadata": {},
     "output_type": "display_data"
    }
   ],
   "source": [
    "mf.plot.pie(title = 'Female vs Male owned businesses in 2020',y='FIRMPDEMP_2020', autopct='%1.0f%%', colors = ['pink', 'grey'], ylabel = '',figsize=(10,10)).legend(['FEMALE', 'MALE'])"
   ]
  },
  {
   "cell_type": "code",
   "execution_count": null,
   "id": "5b1a3750",
   "metadata": {},
   "outputs": [],
   "source": []
  }
 ],
 "metadata": {
  "kernelspec": {
   "display_name": "Python 3 (ipykernel)",
   "language": "python",
   "name": "python3"
  },
  "language_info": {
   "codemirror_mode": {
    "name": "ipython",
    "version": 3
   },
   "file_extension": ".py",
   "mimetype": "text/x-python",
   "name": "python",
   "nbconvert_exporter": "python",
   "pygments_lexer": "ipython3",
   "version": "3.8.8"
  }
 },
 "nbformat": 4,
 "nbformat_minor": 5
}
