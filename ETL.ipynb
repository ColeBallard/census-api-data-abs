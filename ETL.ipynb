{
 "cells": [
  {
   "cell_type": "code",
   "execution_count": 2,
   "id": "6429d252",
   "metadata": {},
   "outputs": [],
   "source": [
    "import requests\n",
    "import pandas as pd"
   ]
  },
  {
   "cell_type": "code",
   "execution_count": 74,
   "id": "e198769e",
   "metadata": {},
   "outputs": [],
   "source": [
    "data2019 = requests.get('https://api.census.gov/data/2018/abscs?get=NAME,GEO_ID,NAICS2017_LABEL,SEX,ETH_GROUP,RACE_GROUP,VET_GROUP,FIRMPDEMP&for=state:*&NAICS2017=00&key=a4bcb4614372e8f229066cbce694ccdb6b558ef4').json()"
   ]
  },
  {
   "cell_type": "code",
   "execution_count": 55,
   "id": "45446068",
   "metadata": {},
   "outputs": [],
   "source": [
    "data2020 = requests.get('https://api.census.gov/data/2019/abscs?get=NAME,GEO_ID,NAICS2017_LABEL,SEX,ETH_GROUP,RACE_GROUP,VET_GROUP,FIRMPDEMP&for=state:*&NAICS2017=00&key=a4bcb4614372e8f229066cbce694ccdb6b558ef4').json()"
   ]
  },
  {
   "cell_type": "code",
   "execution_count": 48,
   "id": "4b3d27c4",
   "metadata": {},
   "outputs": [],
   "source": [
    "companysummarystate2019 = pd.DataFrame (data[1:], columns= data2019[0])"
   ]
  },
  {
   "cell_type": "code",
   "execution_count": 56,
   "id": "4b9b608f",
   "metadata": {},
   "outputs": [],
   "source": [
    "companysummarystate2020 = pd.DataFrame(data2020[1:], columns = data2020[0])"
   ]
  },
  {
   "cell_type": "code",
   "execution_count": 61,
   "id": "688ec796",
   "metadata": {
    "scrolled": true
   },
   "outputs": [],
   "source": [
    "companysummarystate2019.drop(columns = ['GEO_ID','NAICS2017_LABEL','NAICS2017','state'], inplace=True)"
   ]
  },
  {
   "cell_type": "code",
   "execution_count": 62,
   "id": "c2a005be",
   "metadata": {},
   "outputs": [],
   "source": [
    "companysummarystate2020.drop(columns = ['GEO_ID','NAICS2017_LABEL','NAICS2017','state'], inplace=True)"
   ]
  },
  {
   "cell_type": "code",
   "execution_count": 65,
   "id": "900c1dcd",
   "metadata": {},
   "outputs": [
    {
     "data": {
      "text/html": [
       "<div>\n",
       "<style scoped>\n",
       "    .dataframe tbody tr th:only-of-type {\n",
       "        vertical-align: middle;\n",
       "    }\n",
       "\n",
       "    .dataframe tbody tr th {\n",
       "        vertical-align: top;\n",
       "    }\n",
       "\n",
       "    .dataframe thead th {\n",
       "        text-align: right;\n",
       "    }\n",
       "</style>\n",
       "<table border=\"1\" class=\"dataframe\">\n",
       "  <thead>\n",
       "    <tr style=\"text-align: right;\">\n",
       "      <th></th>\n",
       "      <th>NAME</th>\n",
       "      <th>SEX</th>\n",
       "      <th>ETH_GROUP</th>\n",
       "      <th>RACE_GROUP</th>\n",
       "      <th>VET_GROUP</th>\n",
       "      <th>FIRMPDEMP</th>\n",
       "    </tr>\n",
       "  </thead>\n",
       "  <tbody>\n",
       "    <tr>\n",
       "      <th>0</th>\n",
       "      <td>Mississippi</td>\n",
       "      <td>002</td>\n",
       "      <td>029</td>\n",
       "      <td>00</td>\n",
       "      <td>003</td>\n",
       "      <td>0</td>\n",
       "    </tr>\n",
       "    <tr>\n",
       "      <th>1</th>\n",
       "      <td>Mississippi</td>\n",
       "      <td>003</td>\n",
       "      <td>029</td>\n",
       "      <td>00</td>\n",
       "      <td>003</td>\n",
       "      <td>466</td>\n",
       "    </tr>\n",
       "    <tr>\n",
       "      <th>2</th>\n",
       "      <td>Mississippi</td>\n",
       "      <td>004</td>\n",
       "      <td>029</td>\n",
       "      <td>00</td>\n",
       "      <td>003</td>\n",
       "      <td>572</td>\n",
       "    </tr>\n",
       "    <tr>\n",
       "      <th>3</th>\n",
       "      <td>Mississippi</td>\n",
       "      <td>001</td>\n",
       "      <td>001</td>\n",
       "      <td>30</td>\n",
       "      <td>003</td>\n",
       "      <td>926</td>\n",
       "    </tr>\n",
       "    <tr>\n",
       "      <th>4</th>\n",
       "      <td>Mississippi</td>\n",
       "      <td>096</td>\n",
       "      <td>096</td>\n",
       "      <td>96</td>\n",
       "      <td>096</td>\n",
       "      <td>37489</td>\n",
       "    </tr>\n",
       "  </tbody>\n",
       "</table>\n",
       "</div>"
      ],
      "text/plain": [
       "          NAME  SEX ETH_GROUP RACE_GROUP VET_GROUP FIRMPDEMP\n",
       "0  Mississippi  002       029         00       003         0\n",
       "1  Mississippi  003       029         00       003       466\n",
       "2  Mississippi  004       029         00       003       572\n",
       "3  Mississippi  001       001         30       003       926\n",
       "4  Mississippi  096       096         96       096     37489"
      ]
     },
     "execution_count": 65,
     "metadata": {},
     "output_type": "execute_result"
    }
   ],
   "source": [
    "companysummarystate2019.head()"
   ]
  },
  {
   "cell_type": "code",
   "execution_count": 75,
   "id": "1f830a5b",
   "metadata": {},
   "outputs": [
    {
     "data": {
      "text/html": [
       "<div>\n",
       "<style scoped>\n",
       "    .dataframe tbody tr th:only-of-type {\n",
       "        vertical-align: middle;\n",
       "    }\n",
       "\n",
       "    .dataframe tbody tr th {\n",
       "        vertical-align: top;\n",
       "    }\n",
       "\n",
       "    .dataframe thead th {\n",
       "        text-align: right;\n",
       "    }\n",
       "</style>\n",
       "<table border=\"1\" class=\"dataframe\">\n",
       "  <thead>\n",
       "    <tr style=\"text-align: right;\">\n",
       "      <th></th>\n",
       "      <th>NAME</th>\n",
       "      <th>SEX</th>\n",
       "      <th>ETH_GROUP</th>\n",
       "      <th>RACE_GROUP</th>\n",
       "      <th>VET_GROUP</th>\n",
       "      <th>FIRMPDEMP</th>\n",
       "    </tr>\n",
       "  </thead>\n",
       "  <tbody>\n",
       "    <tr>\n",
       "      <th>0</th>\n",
       "      <td>Mississippi</td>\n",
       "      <td>001</td>\n",
       "      <td>028</td>\n",
       "      <td>00</td>\n",
       "      <td>001</td>\n",
       "      <td>93</td>\n",
       "    </tr>\n",
       "    <tr>\n",
       "      <th>1</th>\n",
       "      <td>Mississippi</td>\n",
       "      <td>003</td>\n",
       "      <td>028</td>\n",
       "      <td>00</td>\n",
       "      <td>001</td>\n",
       "      <td>0</td>\n",
       "    </tr>\n",
       "    <tr>\n",
       "      <th>2</th>\n",
       "      <td>Mississippi</td>\n",
       "      <td>002</td>\n",
       "      <td>029</td>\n",
       "      <td>50</td>\n",
       "      <td>001</td>\n",
       "      <td>0</td>\n",
       "    </tr>\n",
       "    <tr>\n",
       "      <th>3</th>\n",
       "      <td>Mississippi</td>\n",
       "      <td>003</td>\n",
       "      <td>029</td>\n",
       "      <td>50</td>\n",
       "      <td>001</td>\n",
       "      <td>51</td>\n",
       "    </tr>\n",
       "    <tr>\n",
       "      <th>4</th>\n",
       "      <td>Mississippi</td>\n",
       "      <td>001</td>\n",
       "      <td>001</td>\n",
       "      <td>60</td>\n",
       "      <td>001</td>\n",
       "      <td>2489</td>\n",
       "    </tr>\n",
       "  </tbody>\n",
       "</table>\n",
       "</div>"
      ],
      "text/plain": [
       "          NAME  SEX ETH_GROUP RACE_GROUP VET_GROUP FIRMPDEMP\n",
       "0  Mississippi  001       028         00       001        93\n",
       "1  Mississippi  003       028         00       001         0\n",
       "2  Mississippi  002       029         50       001         0\n",
       "3  Mississippi  003       029         50       001        51\n",
       "4  Mississippi  001       001         60       001      2489"
      ]
     },
     "execution_count": 75,
     "metadata": {},
     "output_type": "execute_result"
    }
   ],
   "source": [
    "companysummarystate2020.head()"
   ]
  },
  {
   "cell_type": "code",
   "execution_count": 71,
   "id": "7543b5ef",
   "metadata": {},
   "outputs": [
    {
     "data": {
      "text/plain": [
       "False    9668\n",
       "Name: FIRMPDEMP, dtype: int64"
      ]
     },
     "execution_count": 71,
     "metadata": {},
     "output_type": "execute_result"
    }
   ],
   "source": [
    "companysummarystate2019.FIRMPDEMP.isna().value_counts()"
   ]
  },
  {
   "cell_type": "code",
   "execution_count": 72,
   "id": "80e35b8f",
   "metadata": {},
   "outputs": [
    {
     "data": {
      "text/plain": [
       "False    9641\n",
       "Name: FIRMPDEMP, dtype: int64"
      ]
     },
     "execution_count": 72,
     "metadata": {},
     "output_type": "execute_result"
    }
   ],
   "source": [
    "companysummarystate2020.FIRMPDEMP.isna().value_counts()"
   ]
  },
  {
   "cell_type": "code",
   "execution_count": 76,
   "id": "cbda8f80",
   "metadata": {},
   "outputs": [],
   "source": [
    "statemerge = companysummarystate2019.merge(companysummarystate2020, on=['NAME', 'SEX', 'ETH_GROUP', 'RACE_GROUP', 'VET_GROUP'], how='inner', suffixes = ('_2019', '_2020') )"
   ]
  },
  {
   "cell_type": "markdown",
   "id": "31372314",
   "metadata": {},
   "source": [
    "The totals for each column are 001, except Race_Group which is 00.\n",
    "Make sure that you filter for totals on all the other columns except for the ones you are looking at fo"
   ]
  },
  {
   "cell_type": "code",
   "execution_count": 77,
   "id": "49cb6de3",
   "metadata": {},
   "outputs": [
    {
     "data": {
      "text/html": [
       "<div>\n",
       "<style scoped>\n",
       "    .dataframe tbody tr th:only-of-type {\n",
       "        vertical-align: middle;\n",
       "    }\n",
       "\n",
       "    .dataframe tbody tr th {\n",
       "        vertical-align: top;\n",
       "    }\n",
       "\n",
       "    .dataframe thead th {\n",
       "        text-align: right;\n",
       "    }\n",
       "</style>\n",
       "<table border=\"1\" class=\"dataframe\">\n",
       "  <thead>\n",
       "    <tr style=\"text-align: right;\">\n",
       "      <th></th>\n",
       "      <th>NAME</th>\n",
       "      <th>SEX</th>\n",
       "      <th>ETH_GROUP</th>\n",
       "      <th>RACE_GROUP</th>\n",
       "      <th>VET_GROUP</th>\n",
       "      <th>FIRMPDEMP_2019</th>\n",
       "      <th>FIRMPDEMP_2020</th>\n",
       "    </tr>\n",
       "  </thead>\n",
       "  <tbody>\n",
       "    <tr>\n",
       "      <th>0</th>\n",
       "      <td>Mississippi</td>\n",
       "      <td>003</td>\n",
       "      <td>029</td>\n",
       "      <td>00</td>\n",
       "      <td>003</td>\n",
       "      <td>466</td>\n",
       "      <td>334</td>\n",
       "    </tr>\n",
       "    <tr>\n",
       "      <th>1</th>\n",
       "      <td>Mississippi</td>\n",
       "      <td>004</td>\n",
       "      <td>029</td>\n",
       "      <td>00</td>\n",
       "      <td>003</td>\n",
       "      <td>572</td>\n",
       "      <td>0</td>\n",
       "    </tr>\n",
       "    <tr>\n",
       "      <th>2</th>\n",
       "      <td>Mississippi</td>\n",
       "      <td>001</td>\n",
       "      <td>001</td>\n",
       "      <td>30</td>\n",
       "      <td>003</td>\n",
       "      <td>926</td>\n",
       "      <td>801</td>\n",
       "    </tr>\n",
       "    <tr>\n",
       "      <th>3</th>\n",
       "      <td>Mississippi</td>\n",
       "      <td>096</td>\n",
       "      <td>096</td>\n",
       "      <td>96</td>\n",
       "      <td>096</td>\n",
       "      <td>37489</td>\n",
       "      <td>37057</td>\n",
       "    </tr>\n",
       "    <tr>\n",
       "      <th>4</th>\n",
       "      <td>Mississippi</td>\n",
       "      <td>002</td>\n",
       "      <td>001</td>\n",
       "      <td>00</td>\n",
       "      <td>001</td>\n",
       "      <td>6659</td>\n",
       "      <td>7751</td>\n",
       "    </tr>\n",
       "    <tr>\n",
       "      <th>...</th>\n",
       "      <td>...</td>\n",
       "      <td>...</td>\n",
       "      <td>...</td>\n",
       "      <td>...</td>\n",
       "      <td>...</td>\n",
       "      <td>...</td>\n",
       "      <td>...</td>\n",
       "    </tr>\n",
       "    <tr>\n",
       "      <th>9133</th>\n",
       "      <td>Minnesota</td>\n",
       "      <td>002</td>\n",
       "      <td>029</td>\n",
       "      <td>00</td>\n",
       "      <td>003</td>\n",
       "      <td>0</td>\n",
       "      <td>0</td>\n",
       "    </tr>\n",
       "    <tr>\n",
       "      <th>9134</th>\n",
       "      <td>Minnesota</td>\n",
       "      <td>003</td>\n",
       "      <td>029</td>\n",
       "      <td>00</td>\n",
       "      <td>003</td>\n",
       "      <td>941</td>\n",
       "      <td>1128</td>\n",
       "    </tr>\n",
       "    <tr>\n",
       "      <th>9135</th>\n",
       "      <td>Minnesota</td>\n",
       "      <td>004</td>\n",
       "      <td>029</td>\n",
       "      <td>00</td>\n",
       "      <td>003</td>\n",
       "      <td>0</td>\n",
       "      <td>1877</td>\n",
       "    </tr>\n",
       "    <tr>\n",
       "      <th>9136</th>\n",
       "      <td>Minnesota</td>\n",
       "      <td>001</td>\n",
       "      <td>001</td>\n",
       "      <td>30</td>\n",
       "      <td>003</td>\n",
       "      <td>0</td>\n",
       "      <td>3025</td>\n",
       "    </tr>\n",
       "    <tr>\n",
       "      <th>9137</th>\n",
       "      <td>Minnesota</td>\n",
       "      <td>096</td>\n",
       "      <td>096</td>\n",
       "      <td>96</td>\n",
       "      <td>096</td>\n",
       "      <td>105997</td>\n",
       "      <td>105316</td>\n",
       "    </tr>\n",
       "  </tbody>\n",
       "</table>\n",
       "<p>9138 rows × 7 columns</p>\n",
       "</div>"
      ],
      "text/plain": [
       "             NAME  SEX ETH_GROUP RACE_GROUP VET_GROUP FIRMPDEMP_2019  \\\n",
       "0     Mississippi  003       029         00       003            466   \n",
       "1     Mississippi  004       029         00       003            572   \n",
       "2     Mississippi  001       001         30       003            926   \n",
       "3     Mississippi  096       096         96       096          37489   \n",
       "4     Mississippi  002       001         00       001           6659   \n",
       "...           ...  ...       ...        ...       ...            ...   \n",
       "9133    Minnesota  002       029         00       003              0   \n",
       "9134    Minnesota  003       029         00       003            941   \n",
       "9135    Minnesota  004       029         00       003              0   \n",
       "9136    Minnesota  001       001         30       003              0   \n",
       "9137    Minnesota  096       096         96       096         105997   \n",
       "\n",
       "     FIRMPDEMP_2020  \n",
       "0               334  \n",
       "1                 0  \n",
       "2               801  \n",
       "3             37057  \n",
       "4              7751  \n",
       "...             ...  \n",
       "9133              0  \n",
       "9134           1128  \n",
       "9135           1877  \n",
       "9136           3025  \n",
       "9137         105316  \n",
       "\n",
       "[9138 rows x 7 columns]"
      ]
     },
     "execution_count": 77,
     "metadata": {},
     "output_type": "execute_result"
    }
   ],
   "source": [
    "statemerge"
   ]
  },
  {
   "cell_type": "code",
   "execution_count": null,
   "id": "b08960f7",
   "metadata": {},
   "outputs": [],
   "source": []
  }
 ],
 "metadata": {
  "kernelspec": {
   "display_name": "Python 3 (ipykernel)",
   "language": "python",
   "name": "python3"
  },
  "language_info": {
   "codemirror_mode": {
    "name": "ipython",
    "version": 3
   },
   "file_extension": ".py",
   "mimetype": "text/x-python",
   "name": "python",
   "nbconvert_exporter": "python",
   "pygments_lexer": "ipython3",
   "version": "3.8.8"
  }
 },
 "nbformat": 4,
 "nbformat_minor": 5
}
