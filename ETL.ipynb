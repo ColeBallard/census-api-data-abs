{
 "cells": [
  {
   "cell_type": "code",
   "execution_count": 150,
   "id": "6429d252",
   "metadata": {},
   "outputs": [],
   "source": [
    "import requests\n",
    "import pandas as pd\n",
    "import matplotlib.pyplot as plt"
   ]
  },
  {
   "cell_type": "code",
   "execution_count": 32,
   "id": "7da9bca6",
   "metadata": {},
   "outputs": [],
   "source": [
    "pd.options.mode.chained_assignment = None"
   ]
  },
  {
   "cell_type": "code",
   "execution_count": 2,
   "id": "ea795c28",
   "metadata": {},
   "outputs": [],
   "source": [
    "data2019 = requests.get('https://api.census.gov/data/2018/abscs?get=NAME,GEO_ID,NAICS2017_LABEL,SEX,ETH_GROUP,RACE_GROUP,VET_GROUP,FIRMPDEMP&for=state:*&NAICS2017=00&key=a4bcb4614372e8f229066cbce694ccdb6b558ef4').json()"
   ]
  },
  {
   "cell_type": "code",
   "execution_count": 3,
   "id": "1c1d4636",
   "metadata": {},
   "outputs": [],
   "source": [
    "data2020 = requests.get('https://api.census.gov/data/2019/abscs?get=NAME,GEO_ID,NAICS2017_LABEL,SEX,ETH_GROUP,RACE_GROUP,VET_GROUP,FIRMPDEMP&for=state:*&NAICS2017=00&key=a4bcb4614372e8f229066cbce694ccdb6b558ef4').json()"
   ]
  },
  {
   "cell_type": "code",
   "execution_count": 5,
   "id": "4b3d27c4",
   "metadata": {},
   "outputs": [],
   "source": [
    "companysummarystate2019 = pd.DataFrame (data2019[1:], columns= data2019[0])"
   ]
  },
  {
   "cell_type": "code",
   "execution_count": 6,
   "id": "1c743229",
   "metadata": {},
   "outputs": [],
   "source": [
    "companysummarystate2020 = pd.DataFrame(data2020[1:], columns = data2020[0])"
   ]
  },
  {
   "cell_type": "code",
   "execution_count": 7,
   "id": "84894aec",
   "metadata": {
    "scrolled": true
   },
   "outputs": [],
   "source": [
    "companysummarystate2019.drop(columns = ['GEO_ID','NAICS2017_LABEL','NAICS2017','state'], inplace=True)"
   ]
  },
  {
   "cell_type": "code",
   "execution_count": 8,
   "id": "aa843d5e",
   "metadata": {},
   "outputs": [],
   "source": [
    "companysummarystate2020.drop(columns = ['GEO_ID','NAICS2017_LABEL','NAICS2017','state'], inplace=True)"
   ]
  },
  {
   "cell_type": "code",
   "execution_count": 9,
   "id": "a2942caa",
   "metadata": {},
   "outputs": [
    {
     "data": {
      "text/html": [
       "<div>\n",
       "<style scoped>\n",
       "    .dataframe tbody tr th:only-of-type {\n",
       "        vertical-align: middle;\n",
       "    }\n",
       "\n",
       "    .dataframe tbody tr th {\n",
       "        vertical-align: top;\n",
       "    }\n",
       "\n",
       "    .dataframe thead th {\n",
       "        text-align: right;\n",
       "    }\n",
       "</style>\n",
       "<table border=\"1\" class=\"dataframe\">\n",
       "  <thead>\n",
       "    <tr style=\"text-align: right;\">\n",
       "      <th></th>\n",
       "      <th>NAME</th>\n",
       "      <th>SEX</th>\n",
       "      <th>ETH_GROUP</th>\n",
       "      <th>RACE_GROUP</th>\n",
       "      <th>VET_GROUP</th>\n",
       "      <th>FIRMPDEMP</th>\n",
       "    </tr>\n",
       "  </thead>\n",
       "  <tbody>\n",
       "    <tr>\n",
       "      <th>0</th>\n",
       "      <td>Mississippi</td>\n",
       "      <td>002</td>\n",
       "      <td>029</td>\n",
       "      <td>00</td>\n",
       "      <td>003</td>\n",
       "      <td>0</td>\n",
       "    </tr>\n",
       "    <tr>\n",
       "      <th>1</th>\n",
       "      <td>Mississippi</td>\n",
       "      <td>003</td>\n",
       "      <td>029</td>\n",
       "      <td>00</td>\n",
       "      <td>003</td>\n",
       "      <td>466</td>\n",
       "    </tr>\n",
       "    <tr>\n",
       "      <th>2</th>\n",
       "      <td>Mississippi</td>\n",
       "      <td>004</td>\n",
       "      <td>029</td>\n",
       "      <td>00</td>\n",
       "      <td>003</td>\n",
       "      <td>572</td>\n",
       "    </tr>\n",
       "    <tr>\n",
       "      <th>3</th>\n",
       "      <td>Mississippi</td>\n",
       "      <td>001</td>\n",
       "      <td>001</td>\n",
       "      <td>30</td>\n",
       "      <td>003</td>\n",
       "      <td>926</td>\n",
       "    </tr>\n",
       "    <tr>\n",
       "      <th>4</th>\n",
       "      <td>Mississippi</td>\n",
       "      <td>096</td>\n",
       "      <td>096</td>\n",
       "      <td>96</td>\n",
       "      <td>096</td>\n",
       "      <td>37489</td>\n",
       "    </tr>\n",
       "  </tbody>\n",
       "</table>\n",
       "</div>"
      ],
      "text/plain": [
       "          NAME  SEX ETH_GROUP RACE_GROUP VET_GROUP FIRMPDEMP\n",
       "0  Mississippi  002       029         00       003         0\n",
       "1  Mississippi  003       029         00       003       466\n",
       "2  Mississippi  004       029         00       003       572\n",
       "3  Mississippi  001       001         30       003       926\n",
       "4  Mississippi  096       096         96       096     37489"
      ]
     },
     "execution_count": 9,
     "metadata": {},
     "output_type": "execute_result"
    }
   ],
   "source": [
    "companysummarystate2019.head()"
   ]
  },
  {
   "cell_type": "code",
   "execution_count": 10,
   "id": "71f96708",
   "metadata": {},
   "outputs": [
    {
     "data": {
      "text/html": [
       "<div>\n",
       "<style scoped>\n",
       "    .dataframe tbody tr th:only-of-type {\n",
       "        vertical-align: middle;\n",
       "    }\n",
       "\n",
       "    .dataframe tbody tr th {\n",
       "        vertical-align: top;\n",
       "    }\n",
       "\n",
       "    .dataframe thead th {\n",
       "        text-align: right;\n",
       "    }\n",
       "</style>\n",
       "<table border=\"1\" class=\"dataframe\">\n",
       "  <thead>\n",
       "    <tr style=\"text-align: right;\">\n",
       "      <th></th>\n",
       "      <th>NAME</th>\n",
       "      <th>SEX</th>\n",
       "      <th>ETH_GROUP</th>\n",
       "      <th>RACE_GROUP</th>\n",
       "      <th>VET_GROUP</th>\n",
       "      <th>FIRMPDEMP</th>\n",
       "    </tr>\n",
       "  </thead>\n",
       "  <tbody>\n",
       "    <tr>\n",
       "      <th>0</th>\n",
       "      <td>Mississippi</td>\n",
       "      <td>001</td>\n",
       "      <td>028</td>\n",
       "      <td>00</td>\n",
       "      <td>001</td>\n",
       "      <td>93</td>\n",
       "    </tr>\n",
       "    <tr>\n",
       "      <th>1</th>\n",
       "      <td>Mississippi</td>\n",
       "      <td>003</td>\n",
       "      <td>028</td>\n",
       "      <td>00</td>\n",
       "      <td>001</td>\n",
       "      <td>0</td>\n",
       "    </tr>\n",
       "    <tr>\n",
       "      <th>2</th>\n",
       "      <td>Mississippi</td>\n",
       "      <td>002</td>\n",
       "      <td>029</td>\n",
       "      <td>50</td>\n",
       "      <td>001</td>\n",
       "      <td>0</td>\n",
       "    </tr>\n",
       "    <tr>\n",
       "      <th>3</th>\n",
       "      <td>Mississippi</td>\n",
       "      <td>003</td>\n",
       "      <td>029</td>\n",
       "      <td>50</td>\n",
       "      <td>001</td>\n",
       "      <td>51</td>\n",
       "    </tr>\n",
       "    <tr>\n",
       "      <th>4</th>\n",
       "      <td>Mississippi</td>\n",
       "      <td>001</td>\n",
       "      <td>001</td>\n",
       "      <td>60</td>\n",
       "      <td>001</td>\n",
       "      <td>2489</td>\n",
       "    </tr>\n",
       "  </tbody>\n",
       "</table>\n",
       "</div>"
      ],
      "text/plain": [
       "          NAME  SEX ETH_GROUP RACE_GROUP VET_GROUP FIRMPDEMP\n",
       "0  Mississippi  001       028         00       001        93\n",
       "1  Mississippi  003       028         00       001         0\n",
       "2  Mississippi  002       029         50       001         0\n",
       "3  Mississippi  003       029         50       001        51\n",
       "4  Mississippi  001       001         60       001      2489"
      ]
     },
     "execution_count": 10,
     "metadata": {},
     "output_type": "execute_result"
    }
   ],
   "source": [
    "companysummarystate2020.head()"
   ]
  },
  {
   "cell_type": "code",
   "execution_count": 11,
   "id": "5dbd6f60",
   "metadata": {},
   "outputs": [
    {
     "data": {
      "text/plain": [
       "False    9668\n",
       "Name: FIRMPDEMP, dtype: int64"
      ]
     },
     "execution_count": 11,
     "metadata": {},
     "output_type": "execute_result"
    }
   ],
   "source": [
    "companysummarystate2019.FIRMPDEMP.isna().value_counts()"
   ]
  },
  {
   "cell_type": "code",
   "execution_count": 12,
   "id": "f6dcf83e",
   "metadata": {},
   "outputs": [
    {
     "data": {
      "text/plain": [
       "False    9641\n",
       "Name: FIRMPDEMP, dtype: int64"
      ]
     },
     "execution_count": 12,
     "metadata": {},
     "output_type": "execute_result"
    }
   ],
   "source": [
    "companysummarystate2020.FIRMPDEMP.isna().value_counts()"
   ]
  },
  {
   "cell_type": "code",
   "execution_count": 13,
   "id": "f8d01748",
   "metadata": {},
   "outputs": [],
   "source": [
    "statemerge = companysummarystate2019.merge(companysummarystate2020, on=['NAME', 'SEX', 'ETH_GROUP', 'RACE_GROUP', 'VET_GROUP'], how='inner', suffixes = ('_2019', '_2020') )"
   ]
  },
  {
   "cell_type": "markdown",
   "id": "495b05c3",
   "metadata": {},
   "source": [
    "The totals for each column are 001, except Race_Group which is 00.\n",
    "\n",
    "Make sure that you filter for totals on all the other columns except for the ones you are looking at. (Ex: If you are looking for all male owned businesses, you filter for 003 on the sex column, 001 on eth group, vet group, and 00 on race group)"
   ]
  },
  {
   "cell_type": "code",
   "execution_count": 108,
   "id": "ba107547",
   "metadata": {
    "scrolled": false
   },
   "outputs": [],
   "source": [
    "statemerge['CHANGE'] = statemerge['FIRMPDEMP_2020'] - statemerge['FIRMPDEMP_2019']"
   ]
  },
  {
   "cell_type": "code",
   "execution_count": 34,
   "id": "813ed100",
   "metadata": {},
   "outputs": [],
   "source": [
    "statemerge['FIRMPDEMP_2020'] = pd.to_numeric(statemerge['FIRMPDEMP_2020'])"
   ]
  },
  {
   "cell_type": "code",
   "execution_count": 35,
   "id": "b8277711",
   "metadata": {},
   "outputs": [],
   "source": [
    "statemerge['FIRMPDEMP_2019'] = pd.to_numeric(statemerge['FIRMPDEMP_2019'])"
   ]
  },
  {
   "cell_type": "code",
   "execution_count": 77,
   "id": "c00191c6",
   "metadata": {},
   "outputs": [],
   "source": [
    "maleminorityfilter = statemerge[(statemerge['SEX'] != '001') & (statemerge['RACE_GROUP'] == '90') & (statemerge['VET_GROUP'] == '001') & (statemerge['ETH_GROUP']== '001')]"
   ]
  },
  {
   "cell_type": "code",
   "execution_count": 78,
   "id": "303ed7af",
   "metadata": {},
   "outputs": [],
   "source": [
    "black = maleminorityfilter.groupby(\"SEX\").sum(\"FIRMPDEMP_2019\")"
   ]
  },
  {
   "cell_type": "code",
   "execution_count": 107,
   "id": "5a0dadca",
   "metadata": {
    "scrolled": true
   },
   "outputs": [
    {
     "data": {
      "text/plain": [
       "<matplotlib.legend.Legend at 0x1be7e3867f0>"
      ]
     },
     "execution_count": 107,
     "metadata": {},
     "output_type": "execute_result"
    },
    {
     "data": {
      "image/png": "[encoded data removed]",
      "text/plain": [
       "<Figure size 1080x432 with 1 Axes>"
      ]
     },
     "metadata": {
      "needs_background": "light"
     },
     "output_type": "display_data"
    }
   ],
   "source": [
    "ax = black.plot(title = 'Number of Black Owned Businesses by Sex in 2019 and 2020', ylabel = 'Number of Businesses', y= ['FIRMPDEMP_2019', 'FIRMPDEMP_2020'], kind ='bar', use_index =True, figsize=(15, 6))\n",
    "ax.legend([\"2019\", \"2020\"])"
   ]
  },
  {
   "cell_type": "code",
   "execution_count": 128,
   "id": "7f3662d0",
   "metadata": {},
   "outputs": [],
   "source": [
    "bfilter = statemerge[(statemerge['SEX'] == '001') & (statemerge['RACE_GROUP'] == '90') & (statemerge['VET_GROUP'] == '001') & (statemerge['ETH_GROUP']== '001')]"
   ]
  },
  {
   "cell_type": "code",
   "execution_count": 144,
   "id": "b1e19a89",
   "metadata": {},
   "outputs": [],
   "source": [
    "bbusinesslost = bfilter.groupby('NAME').sum('CHANGE').nsmallest(7, 'CHANGE')"
   ]
  },
  {
   "cell_type": "code",
   "execution_count": 146,
   "id": "a826c476",
   "metadata": {},
   "outputs": [
    {
     "data": {
      "text/plain": [
       "Text(0.5, 1.0, 'States That Lost the Most Black Owned Businesses Between 2019 & 2020')"
      ]
     },
     "execution_count": 146,
     "metadata": {},
     "output_type": "execute_result"
    },
    {
     "data": {
      "image/png": "[encoded data removed]",
      "text/plain": [
       "<Figure size 1080x576 with 1 Axes>"
      ]
     },
     "metadata": {
      "needs_background": "light"
     },
     "output_type": "display_data"
    }
   ],
   "source": [
    "fig, ax = plt.subplots()\n",
    "bbusinesslost.plot(kind='barh', ax=ax, y= 'CHANGE', figsize = (15,8))\n",
    "ax.set_ylabel('STATES')\n",
    "ax.set_xlabel('Business Lost Between 2019 and 2020')\n",
    "ax.set_title('States That Lost the Most Black Owned Businesses Between 2019 & 2020')\n",
    "#ax = df.plot(kind='bar') # \"same\" as above"
   ]
  },
  {
   "cell_type": "code",
   "execution_count": 148,
   "id": "03cdfe29",
   "metadata": {},
   "outputs": [],
   "source": [
    "bbusinessgained = bfilter.groupby('NAME').sum('CHANGE').nlargest(7, 'CHANGE')"
   ]
  },
  {
   "cell_type": "code",
   "execution_count": 149,
   "id": "3c510ac5",
   "metadata": {},
   "outputs": [
    {
     "data": {
      "text/plain": [
       "Text(0.5, 1.0, 'States That Gained the Most Black Owned Businesses Between 2019 & 2020')"
      ]
     },
     "execution_count": 149,
     "metadata": {},
     "output_type": "execute_result"
    },
    {
     "data": {
      "image/png": "[encoded data removed]",
      "text/plain": [
       "<Figure size 1080x576 with 1 Axes>"
      ]
     },
     "metadata": {
      "needs_background": "light"
     },
     "output_type": "display_data"
    }
   ],
   "source": [
    "fig, ax = plt.subplots()\n",
    "bbusinessgained.plot(kind='barh', ax=ax, y= 'CHANGE', figsize = (15,8))\n",
    "ax.set_ylabel('STATES')\n",
    "ax.set_xlabel('Business Gained Between 2019 and 2020')\n",
    "ax.set_title('States That Gained the Most Black Owned Businesses Between 2019 & 2020')\n",
    "#ax = df.plot(kind='bar') # \"same\" as above"
   ]
  },
  {
   "cell_type": "code",
   "execution_count": null,
   "id": "36341786",
   "metadata": {},
   "outputs": [],
   "source": []
  }
 ],
 "metadata": {
  "kernelspec": {
   "display_name": "Python 3 (ipykernel)",
   "language": "python",
   "name": "python3"
  },
  "language_info": {
   "codemirror_mode": {
    "name": "ipython",
    "version": 3
   },
   "file_extension": ".py",
   "mimetype": "text/x-python",
   "name": "python",
   "nbconvert_exporter": "python",
   "pygments_lexer": "ipython3",
   "version": "3.8.8"
  }
 },
 "nbformat": 4,
 "nbformat_minor": 5
}
